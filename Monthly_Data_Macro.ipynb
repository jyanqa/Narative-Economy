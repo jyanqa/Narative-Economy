{
  "nbformat": 4,
  "nbformat_minor": 5,
  "metadata": {
    "colab": {
      "name": "Monthly_Data_Macro.ipynb",
      "provenance": [],
      "collapsed_sections": [],
      "include_colab_link": true
    },
    "kernelspec": {
      "display_name": "Python 3",
      "language": "python",
      "name": "python3"
    },
    "language_info": {
      "codemirror_mode": {
        "name": "ipython",
        "version": 3
      },
      "file_extension": ".py",
      "mimetype": "text/x-python",
      "name": "python",
      "nbconvert_exporter": "python",
      "pygments_lexer": "ipython3",
      "version": "3.7.4"
    },
    "accelerator": "GPU"
  },
  "cells": [
    {
      "cell_type": "markdown",
      "metadata": {
        "id": "view-in-github",
        "colab_type": "text"
      },
      "source": [
        "<a href=\"https://colab.research.google.com/github/jyanqa/Narative-Economy/blob/main/Monthly_Data_Macro.ipynb\" target=\"_parent\"><img src=\"https://colab.research.google.com/assets/colab-badge.svg\" alt=\"Open In Colab\"/></a>"
      ]
    },
    {
      "cell_type": "code",
      "metadata": {
        "id": "ready-shield"
      },
      "source": [
        "import pandas as pd\n",
        "import numpy as np"
      ],
      "id": "ready-shield",
      "execution_count": null,
      "outputs": []
    },
    {
      "cell_type": "markdown",
      "metadata": {
        "id": "linear-bacteria"
      },
      "source": [
        "## 1 Data"
      ],
      "id": "linear-bacteria"
    },
    {
      "cell_type": "code",
      "metadata": {
        "id": "9KckEZrTQs3x"
      },
      "source": [
        "url = 'https://drive.google.com/uc?id=' +  '1VXuxMfSYwZY80SlB7e1HfPshvwo72l2T'"
      ],
      "id": "9KckEZrTQs3x",
      "execution_count": null,
      "outputs": []
    },
    {
      "cell_type": "code",
      "metadata": {
        "id": "unauthorized-injury"
      },
      "source": [
        "df = pd.read_csv(url, sep = '|')\n",
        "#pd.set_option('display.max_colwidth',None)\n",
        "#pd.set_option('display.max_colwidth',-1)\n",
        "#pd.set_option('display.width', 5)"
      ],
      "id": "unauthorized-injury",
      "execution_count": null,
      "outputs": []
    },
    {
      "cell_type": "markdown",
      "metadata": {
        "id": "gorgeous-billy"
      },
      "source": [
        "### Subset"
      ],
      "id": "gorgeous-billy"
    },
    {
      "cell_type": "code",
      "metadata": {
        "id": "corrected-sitting",
        "scrolled": false
      },
      "source": [
        "# speech in 2021\n",
        "d21 = df[(df['date'] > '2018-01-01') & (df['date'] < '2021-5-31')]\n",
        "#drop empty row\n",
        "d21 = d21.dropna(how ='any')\n",
        "#dataframe | remain only two colums\n",
        "d21 = d21[['date','contents']]"
      ],
      "id": "corrected-sitting",
      "execution_count": null,
      "outputs": []
    },
    {
      "cell_type": "markdown",
      "metadata": {
        "id": "distinct-belle"
      },
      "source": [
        "#### Merge text groupby month"
      ],
      "id": "distinct-belle"
    },
    {
      "cell_type": "code",
      "metadata": {
        "id": "aboriginal-newcastle"
      },
      "source": [
        "d21['date'] = pd.to_datetime(d21['date']) #convert columns date to datetime\n",
        "d21[\"day\"] = d21['date'].map(lambda x: x.day) #extract a day column\n",
        "d21[\"month\"] = d21['date'].map(lambda x: x.month) #extract a month column\n",
        "d21[\"year\"] = d21['date'].map(lambda x: x.year) #extract a year column"
      ],
      "id": "aboriginal-newcastle",
      "execution_count": null,
      "outputs": []
    },
    {
      "cell_type": "code",
      "metadata": {
        "id": "needed-making"
      },
      "source": [
        "#groupby speech in the same month and year\n",
        "d21['speeches'] = d21.groupby(['month','year'])['contents'].transform(lambda x: ','.join(x)) \n",
        "df21 = d21[['year','month','speeches']].drop_duplicates()\n",
        "\n",
        "from datetime import date #merge column year and month to yymm\n",
        "df21['yymm'] = pd.to_datetime(df21[['year', 'month']].assign(DAY=1))\n",
        "df21 = df21[['yymm', 'speeches']]"
      ],
      "id": "needed-making",
      "execution_count": null,
      "outputs": []
    },
    {
      "cell_type": "code",
      "metadata": {
        "id": "continuing-homework",
        "scrolled": false
      },
      "source": [
        "df21= df21.reset_index(drop = True)\n",
        "#df21.head(5) #df21.shape[0]"
      ],
      "id": "continuing-homework",
      "execution_count": null,
      "outputs": []
    },
    {
      "cell_type": "markdown",
      "metadata": {
        "id": "recorded-creation"
      },
      "source": [
        "#### Split into sentences"
      ],
      "id": "recorded-creation"
    },
    {
      "cell_type": "code",
      "metadata": {
        "id": "sustained-saint"
      },
      "source": [
        "a = df21\n",
        "cols_name = ['yymm', 'sent']\n",
        "df_sent = pd.DataFrame(columns=cols_name)\n",
        "for i in range(a.shape[0]):\n",
        "    yymm = a.iloc[i][0]\n",
        "    text = a.iloc[i][1]\n",
        "    sent_temp = text.split('.')\n",
        "    df_temp = pd.DataFrame(columns=cols_name)\n",
        "    for t in sent_temp:\n",
        "        arr = [yymm,t] #value of a ro\n",
        "        df_length = len(df_sent) #\n",
        "        df_sent.loc[df_length] = arr "
      ],
      "id": "sustained-saint",
      "execution_count": null,
      "outputs": []
    },
    {
      "cell_type": "code",
      "metadata": {
        "colab": {
          "base_uri": "https://localhost:8080/",
          "height": 411
        },
        "id": "PaoL7Di-SupZ",
        "outputId": "e8694425-ce08-4322-98e4-d5db5ceefec8"
      },
      "source": [
        "df_sent"
      ],
      "id": "PaoL7Di-SupZ",
      "execution_count": null,
      "outputs": [
        {
          "output_type": "execute_result",
          "data": {
            "text/html": [
              "<div>\n",
              "<style scoped>\n",
              "    .dataframe tbody tr th:only-of-type {\n",
              "        vertical-align: middle;\n",
              "    }\n",
              "\n",
              "    .dataframe tbody tr th {\n",
              "        vertical-align: top;\n",
              "    }\n",
              "\n",
              "    .dataframe thead th {\n",
              "        text-align: right;\n",
              "    }\n",
              "</style>\n",
              "<table border=\"1\" class=\"dataframe\">\n",
              "  <thead>\n",
              "    <tr style=\"text-align: right;\">\n",
              "      <th></th>\n",
              "      <th>yymm</th>\n",
              "      <th>sent</th>\n",
              "    </tr>\n",
              "  </thead>\n",
              "  <tbody>\n",
              "    <tr>\n",
              "      <th>0</th>\n",
              "      <td>2021-05-01</td>\n",
              "      <td>SPEECH  Societal responsibility and central...</td>\n",
              "    </tr>\n",
              "    <tr>\n",
              "      <th>1</th>\n",
              "      <td>2021-05-01</td>\n",
              "      <td>New Paradigm Workshop”, organised by the Foru...</td>\n",
              "    </tr>\n",
              "    <tr>\n",
              "      <th>2</th>\n",
              "      <td>2021-05-01</td>\n",
              "      <td>Chart 1 Consumer price inflation (1960-1990...</td>\n",
              "    </tr>\n",
              "    <tr>\n",
              "      <th>3</th>\n",
              "      <td>2021-05-01</td>\n",
              "      <td>The delegation of the task of maintaining ...</td>\n",
              "    </tr>\n",
              "    <tr>\n",
              "      <th>4</th>\n",
              "      <td>2021-05-01</td>\n",
              "      <td>This underpins the large degree of political ...</td>\n",
              "    </tr>\n",
              "    <tr>\n",
              "      <th>...</th>\n",
              "      <td>...</td>\n",
              "      <td>...</td>\n",
              "    </tr>\n",
              "    <tr>\n",
              "      <th>46833</th>\n",
              "      <td>2018-01-01</td>\n",
              "      <td>The stock of long-duration assets held in our...</td>\n",
              "    </tr>\n",
              "    <tr>\n",
              "      <th>46834</th>\n",
              "      <td>2018-01-01</td>\n",
              "      <td>Policy rates remaining at their present level...</td>\n",
              "    </tr>\n",
              "    <tr>\n",
              "      <th>46835</th>\n",
              "      <td>2018-01-01</td>\n",
              "      <td>[1] I would like to thank F</td>\n",
              "    </tr>\n",
              "    <tr>\n",
              "      <th>46836</th>\n",
              "      <td>2018-01-01</td>\n",
              "      <td>Holm-Hadulla for his support in preparing thi...</td>\n",
              "    </tr>\n",
              "    <tr>\n",
              "      <th>46837</th>\n",
              "      <td>2018-01-01</td>\n",
              "      <td></td>\n",
              "    </tr>\n",
              "  </tbody>\n",
              "</table>\n",
              "<p>46838 rows × 2 columns</p>\n",
              "</div>"
            ],
            "text/plain": [
              "            yymm                                               sent\n",
              "0     2021-05-01     SPEECH  Societal responsibility and central...\n",
              "1     2021-05-01   New Paradigm Workshop”, organised by the Foru...\n",
              "2     2021-05-01     Chart 1 Consumer price inflation (1960-1990...\n",
              "3     2021-05-01      The delegation of the task of maintaining ...\n",
              "4     2021-05-01   This underpins the large degree of political ...\n",
              "...          ...                                                ...\n",
              "46833 2018-01-01   The stock of long-duration assets held in our...\n",
              "46834 2018-01-01   Policy rates remaining at their present level...\n",
              "46835 2018-01-01                        [1] I would like to thank F\n",
              "46836 2018-01-01   Holm-Hadulla for his support in preparing thi...\n",
              "46837 2018-01-01                                                   \n",
              "\n",
              "[46838 rows x 2 columns]"
            ]
          },
          "metadata": {
            "tags": []
          },
          "execution_count": 9
        }
      ]
    },
    {
      "cell_type": "markdown",
      "metadata": {
        "id": "selective-finish"
      },
      "source": [
        "#### Assign topic to a sentence."
      ],
      "id": "selective-finish"
    },
    {
      "cell_type": "markdown",
      "metadata": {
        "id": "stuck-dublin"
      },
      "source": [
        "## 2 ECB Communication"
      ],
      "id": "stuck-dublin"
    },
    {
      "cell_type": "markdown",
      "metadata": {
        "id": "demographic-selection"
      },
      "source": [
        "We measure the ECB's communication by two features: Topic and Tone. That is, we determine first the economic topic of the speeches. After that, we measures how they are talking about it (tone). In this paper, we make use of Latent Dirichlet Allocation (LDA) to know when they are talking about economic topic and a balance measure based on dictionary methods, or word counting, to measure tone. By combining these two approaches allows us to measure topic-level tone which helps to deal, somewhat, with the weakness of dictionary methods. That is, rather than just measure words associated with expansion, we can measure expansion words associated with GDP growth rather than risk premia."
      ],
      "id": "demographic-selection"
    },
    {
      "cell_type": "markdown",
      "metadata": {
        "id": "looking-sensitivity"
      },
      "source": [
        "### Step 1: Assign topics tp a sentence "
      ],
      "id": "looking-sensitivity"
    },
    {
      "cell_type": "code",
      "metadata": {
        "id": "successful-puzzle",
        "colab": {
          "base_uri": "https://localhost:8080/"
        },
        "outputId": "450fcfa2-d6a4-4b04-8cd9-43ab951c181f"
      },
      "source": [
        "from nltk.corpus import stopwords\n",
        "from nltk.stem.wordnet import WordNetLemmatizer\n",
        "import string\n",
        "import nltk\n",
        "nltk.download('stopwords')\n",
        "nltk.download('wordnet')"
      ],
      "id": "successful-puzzle",
      "execution_count": null,
      "outputs": [
        {
          "output_type": "stream",
          "text": [
            "[nltk_data] Downloading package stopwords to /root/nltk_data...\n",
            "[nltk_data]   Unzipping corpora/stopwords.zip.\n",
            "[nltk_data] Downloading package wordnet to /root/nltk_data...\n",
            "[nltk_data]   Unzipping corpora/wordnet.zip.\n"
          ],
          "name": "stdout"
        },
        {
          "output_type": "execute_result",
          "data": {
            "text/plain": [
              "True"
            ]
          },
          "metadata": {
            "tags": []
          },
          "execution_count": 10
        }
      ]
    },
    {
      "cell_type": "code",
      "metadata": {
        "id": "tMKtswkDHVMl"
      },
      "source": [
        "import string\n",
        "import re\n",
        "import nltk\n",
        "\n",
        "from nltk.stem import PorterStemmer\n",
        "from nltk.tokenize import word_tokenize\n",
        "  \n",
        "ps = PorterStemmer()"
      ],
      "id": "tMKtswkDHVMl",
      "execution_count": null,
      "outputs": []
    },
    {
      "cell_type": "code",
      "metadata": {
        "id": "everyday-sterling"
      },
      "source": [
        "otherstop =  ['-', '%', 'g','bank', 'ecb','euro', 'also','speech','financial','-;','le','p','r','j','f','c','one',\n",
        "             'e','op','-','_','left','(chart', 'likely', 'could','l','n','(question', '()','del','di', 'u','w',\n",
        "                'h', 'b','k', 'q', 'v','co','listen',  'nevertheless', 'truly', 'enable', 'aml', 'somewhat', 'get', \n",
        "              'add', 'partly', 'http', 'brings', 'ed', 'known', 'became','missing',  'likelihood', 'der', 'fed', 'und', \n",
        "              'notion', 'sepa','offering', 'follows', 'offered', 'tell', 'really', 'anniversary', 'determine',\n",
        "              'learning', 'ask', 'hearing', 'bringing', 'unique', 'represent', 'seriously', 'analytical', 'ex', \n",
        "              'desired', 'meaningful', 'delivered', 'generate', 'multi', 'expressed', 'analyse', 'eur', 'round', \n",
        "              'unlike', 'relating', 'accounting', 'happened', 'bit', 'wish', 'applying', 'hour', 'weigh', 'managing', \n",
        "              'von', 'resolve', 'likewise', 'culture', 'compare', 'usually', 'favour', 'otc', 'nairu', 'portugal', \n",
        "              'coin', 'live', 'vi', 'pronounced', 'lehman', 'branch', 'underpin', 'maintained', 'ab', 'youth', 'human', \n",
        "              'page', 'indicate', 'capture', 'official', 'represented', 'greek', 'stop', 'worked', 'repos', 'focusing', \n",
        "              'dialogue', 'discussing', 'reported', 'concluded', 'cepr', 'prior', 'fcis', 'italy','spain','germany',\n",
        "              'netherland','x','netherlands','italian','die','feel','fifth','elswhere','person','slightly', 'omt', \n",
        "              'traditionally','french', 'entirely','assessed','orderly','sharply','wall','latter','woman','st','talk',\n",
        "              'fairly','forget','bearing','preventing','altavilla','exception','collective', 'recorded', 'steadily',\n",
        "              'tail','supportive','spanish','workshop','domain','acted','nonetheless','focused','noted','opening',\n",
        "              'attractive','sample','frequently','eye','suggested','coefficient','ois','learn','gone','recieved',\n",
        "              'luxembourg','slovakia','involve','obtain','contact','correct','wind','washington','posed','subsequent',\n",
        "              'check','comment','solely','received', 'chapter','huge','exceptional','obvious', 'versus', 'fast',\n",
        "              'naturally','entitled','prove','embedded','corresponding','berlin','committed',\n",
        "              'careful','material','lose','agree','explanation','da','rapidly','continent','greatly',\n",
        "              'chicago','background','explaining','involving','entered','arising', 'versus','comply',\n",
        "              'extremely', 'intra', 'neither', 'york', 'japan', 'soon', 'professional', 'none', 'pdf',\n",
        "              'borne', 'unlikely', 'gained', 'perhaps', 'tomorrow', 'came', 'lie', 'easily', 'ncio', 'met', 'concerned', \n",
        "              'seem', 'en', 'decide', 'intended', 'speaking', 'excluding', 'meaning', 'gave', 'prepared', 'refers',\n",
        "              'wrong', 'begin', 'everyone', 'implied', 'presented', 'refer']\n",
        "stop= stopwords.words('english')\n",
        "stop.extend(list(string.punctuation))\n",
        "stop.extend(otherstop)\n",
        "lemma=WordNetLemmatizer()\n",
        "def clean(docx):\n",
        "    doc = re.sub(\"[^a-zA-Z]\",  # Search for all non-letters\n",
        "                          \" \",          # Replace all non-letters with spaces\n",
        "                          str(docx))\n",
        "    doc1 = re.sub(r'\\d+', '', doc)\n",
        "    stop_free=\" \".join([i for i in doc1.lower().split() if i not in stop])\n",
        "    normalized=\" \".join(lemma.lemmatize(word) for word in stop_free.split())\n",
        "    #normalized1 =\" \".join(ps.stem(word) for word in normalized.split())\n",
        "    return normalized\n",
        "####\n",
        "##\n",
        "text_complete = df_sent['sent'].values.tolist()\n",
        "doc_clean=[clean(text).split() for text in text_complete]"
      ],
      "id": "everyday-sterling",
      "execution_count": null,
      "outputs": []
    },
    {
      "cell_type": "code",
      "metadata": {
        "id": "explicit-split",
        "scrolled": true
      },
      "source": [
        "from sklearn.feature_extraction.text import CountVectorizer\n",
        "\n",
        "SOME_FIXED_SEED = 42\n",
        "np.random.seed(SOME_FIXED_SEED)\n",
        "cv=CountVectorizer(min_df=2,max_df=50,#ngram_range=(1,2),\n",
        "                   token_pattern=None,\n",
        "                   tokenizer=lambda doc:doc,preprocessor=lambda doc:doc, \n",
        "                   stop_words = frozenset(stop))\n",
        "#'''INPUT HERE'''\n",
        "cv_features=cv.fit_transform(doc_clean) \n",
        "vocabulary=np.array(cv.get_feature_names())"
      ],
      "id": "explicit-split",
      "execution_count": null,
      "outputs": []
    },
    {
      "cell_type": "code",
      "metadata": {
        "id": "vocal-ranking",
        "colab": {
          "base_uri": "https://localhost:8080/",
          "height": 504
        },
        "outputId": "e5f12896-c9a7-4efc-a602-89b6cbe0b298"
      },
      "source": [
        "'''Using sklearn.decomposition LDA with 15 topics'''\n",
        "from sklearn.decomposition import LatentDirichletAllocation\n",
        "TOTAL_TOPICS = 15\n",
        "lda_model=LatentDirichletAllocation(n_components=TOTAL_TOPICS,\n",
        "                                    max_iter=10,max_doc_update_iter=10,\n",
        "                                    learning_method='online',batch_size=128,\n",
        "                                    learning_offset=50.,random_state=42,n_jobs = -1)\n",
        "\n",
        "'''Using the transformer 'fit_transform'''\n",
        "document_topics=lda_model.fit_transform(cv_features)\n",
        "\n",
        "''' Extraqcting the most important 10 terms for each topic'''\n",
        "topic_terms=lda_model.components_\n",
        "top_terms=15 # number of 'top terms'\n",
        "topic_key_terms_idxs=np.argsort(-np.absolute(topic_terms), axis=1)[:,:top_terms]\n",
        "\n",
        "'''INPUT vocabulary'''\n",
        "topic_keyterms=vocabulary[topic_key_terms_idxs]\n",
        "topics=[', '.join(topic) for topic in topic_keyterms]\n",
        "pd.set_option('display.max_colwidth',None)\n",
        "topics_df=pd.DataFrame(topics,columns=['Term per Topic'], index=['Topic'+str(t) for t in range(1,TOTAL_TOPICS+1)])\n",
        "topics_df\n",
        "\n"
      ],
      "id": "vocal-ranking",
      "execution_count": null,
      "outputs": [
        {
          "output_type": "execute_result",
          "data": {
            "text/html": [
              "<div>\n",
              "<style scoped>\n",
              "    .dataframe tbody tr th:only-of-type {\n",
              "        vertical-align: middle;\n",
              "    }\n",
              "\n",
              "    .dataframe tbody tr th {\n",
              "        vertical-align: top;\n",
              "    }\n",
              "\n",
              "    .dataframe thead th {\n",
              "        text-align: right;\n",
              "    }\n",
              "</style>\n",
              "<table border=\"1\" class=\"dataframe\">\n",
              "  <thead>\n",
              "    <tr style=\"text-align: right;\">\n",
              "      <th></th>\n",
              "      <th>Term per Topic</th>\n",
              "    </tr>\n",
              "  </thead>\n",
              "  <tbody>\n",
              "    <tr>\n",
              "      <th>Topic1</th>\n",
              "      <td>const, resort, harmonisation, wholesale, leaning, risen, lender, compensation, floor, fluctuation, depositor, permanent, belief, grown, reflection</td>\n",
              "    </tr>\n",
              "    <tr>\n",
              "      <th>Topic2</th>\n",
              "      <td>difficulty, standardised, successfully, equal, aftermath, decrease, concerning, strategic, fsb, reap, dealing, equivalent, mitigating, tangible, accepted</td>\n",
              "    </tr>\n",
              "    <tr>\n",
              "      <th>Topic3</th>\n",
              "      <td>psd, sensitivity, converge, shadow, virtual, deleveraging, mortgage, constant, meant, concrete, prudent, outflow, reliable, genuine, otherwise</td>\n",
              "    </tr>\n",
              "    <tr>\n",
              "      <th>Topic4</th>\n",
              "      <td>contributes, incident, anticipated, emerged, granted, fair, complementary, complexity, narrow, raised, rose, database, separate, journey, calculated</td>\n",
              "    </tr>\n",
              "    <tr>\n",
              "      <th>Topic5</th>\n",
              "      <td>buy, weight, balanced, frontier, stood, costly, recovered, aligned, store, surrounding, diffusion, characterised, break, tends, indicated</td>\n",
              "    </tr>\n",
              "    <tr>\n",
              "      <th>Topic6</th>\n",
              "      <td>diversification, continuing, fear, anchored, revolution, backdrop, enabling, acceptance, understood, trough, fragmented, planning, determining, disinflationary, feed</td>\n",
              "    </tr>\n",
              "    <tr>\n",
              "      <th>Topic7</th>\n",
              "      <td>ssm, yves, accept, simulation, author, outright, creates, safeguarding, regional, delay, amid, turned, proportionate, consistently, automation</td>\n",
              "    </tr>\n",
              "    <tr>\n",
              "      <th>Topic8</th>\n",
              "      <td>statute, triggered, employed, contained, ground, argument, boom, box, democracy, proper, prepare, emir, described, shifting, challenged</td>\n",
              "    </tr>\n",
              "    <tr>\n",
              "      <th>Topic9</th>\n",
              "      <td>application, counterparty, bear, deutsche, anchoring, pick, signalling, thinking, discipline, peak, caput, issuing, conditional, appreciation, recognition</td>\n",
              "    </tr>\n",
              "    <tr>\n",
              "      <th>Topic10</th>\n",
              "      <td>surprise, albeit, commerce, spirit, coordinated, lecture, passed, adapt, slower, volatile, inflow, carried, parameter, multiple, reversal</td>\n",
              "    </tr>\n",
              "    <tr>\n",
              "      <th>Topic11</th>\n",
              "      <td>search, platform, perceived, obstacle, category, room, inflationary, systemically, shortcoming, safer, pursuit, resulted, adopt, muted, assistance</td>\n",
              "    </tr>\n",
              "    <tr>\n",
              "      <th>Topic12</th>\n",
              "      <td>bubble, moderation, picture, encouraging, bund, sized, materialise, showed, phenomenon, foresee, occasion, redemption, warrant, complemented, precisely</td>\n",
              "    </tr>\n",
              "    <tr>\n",
              "      <th>Topic13</th>\n",
              "      <td>tariff, ester, presentation, rating, sudden, vc, surplus, undermine, srf, partner, exit, try, protracted, persistently, legitimacy</td>\n",
              "    </tr>\n",
              "    <tr>\n",
              "      <th>Topic14</th>\n",
              "      <td>svensson, legislative, peer, integrity, eurozone, skill, serious, actor, cumulative, highlighted, moved, crypto, failed, durable, notable</td>\n",
              "    </tr>\n",
              "    <tr>\n",
              "      <th>Topic15</th>\n",
              "      <td>praet, claim, concentrated, ec, bottom, whose, peter, construction, communicate, widespread, property, kind, applies, disaster, tackle</td>\n",
              "    </tr>\n",
              "  </tbody>\n",
              "</table>\n",
              "</div>"
            ],
            "text/plain": [
              "                                                                                                                                                                Term per Topic\n",
              "Topic1                      const, resort, harmonisation, wholesale, leaning, risen, lender, compensation, floor, fluctuation, depositor, permanent, belief, grown, reflection\n",
              "Topic2               difficulty, standardised, successfully, equal, aftermath, decrease, concerning, strategic, fsb, reap, dealing, equivalent, mitigating, tangible, accepted\n",
              "Topic3                          psd, sensitivity, converge, shadow, virtual, deleveraging, mortgage, constant, meant, concrete, prudent, outflow, reliable, genuine, otherwise\n",
              "Topic4                    contributes, incident, anticipated, emerged, granted, fair, complementary, complexity, narrow, raised, rose, database, separate, journey, calculated\n",
              "Topic5                               buy, weight, balanced, frontier, stood, costly, recovered, aligned, store, surrounding, diffusion, characterised, break, tends, indicated\n",
              "Topic6   diversification, continuing, fear, anchored, revolution, backdrop, enabling, acceptance, understood, trough, fragmented, planning, determining, disinflationary, feed\n",
              "Topic7                          ssm, yves, accept, simulation, author, outright, creates, safeguarding, regional, delay, amid, turned, proportionate, consistently, automation\n",
              "Topic8                                 statute, triggered, employed, contained, ground, argument, boom, box, democracy, proper, prepare, emir, described, shifting, challenged\n",
              "Topic9              application, counterparty, bear, deutsche, anchoring, pick, signalling, thinking, discipline, peak, caput, issuing, conditional, appreciation, recognition\n",
              "Topic10                              surprise, albeit, commerce, spirit, coordinated, lecture, passed, adapt, slower, volatile, inflow, carried, parameter, multiple, reversal\n",
              "Topic11                     search, platform, perceived, obstacle, category, room, inflationary, systemically, shortcoming, safer, pursuit, resulted, adopt, muted, assistance\n",
              "Topic12                bubble, moderation, picture, encouraging, bund, sized, materialise, showed, phenomenon, foresee, occasion, redemption, warrant, complemented, precisely\n",
              "Topic13                                     tariff, ester, presentation, rating, sudden, vc, surplus, undermine, srf, partner, exit, try, protracted, persistently, legitimacy\n",
              "Topic14                              svensson, legislative, peer, integrity, eurozone, skill, serious, actor, cumulative, highlighted, moved, crypto, failed, durable, notable\n",
              "Topic15                                 praet, claim, concentrated, ec, bottom, whose, peter, construction, communicate, widespread, property, kind, applies, disaster, tackle"
            ]
          },
          "metadata": {
            "tags": []
          },
          "execution_count": 14
        }
      ]
    },
    {
      "cell_type": "markdown",
      "metadata": {
        "id": "applicable-panama"
      },
      "source": [
        "#### WordCloud"
      ],
      "id": "applicable-panama"
    },
    {
      "cell_type": "code",
      "metadata": {
        "id": "fifteen-smith"
      },
      "source": [
        "import matplotlib.pyplot as plt\n",
        "from wordcloud import WordCloud"
      ],
      "id": "fifteen-smith",
      "execution_count": null,
      "outputs": []
    },
    {
      "cell_type": "code",
      "metadata": {
        "id": "spanish-teacher"
      },
      "source": [
        "''' Extraqcting the most important 150 terms for each topic'''\n",
        "topic_terms=lda_model.components_\n",
        "top_terms=150 # number of 'top terms'\n",
        "topic_key_terms_idxs=np.argsort(-np.absolute(topic_terms), axis=1)[:,:top_terms]\n",
        "\n",
        "'''INPUT vocabulary'''\n",
        "topic_keyterms=vocabulary[topic_key_terms_idxs]\n",
        "topics=[', '.join(topic) for topic in topic_keyterms]\n",
        "#pd.set_option('display.max_colwidth',None)\n",
        "topics_df=pd.DataFrame(topics,columns=['Term per Topic'], index=['Topic'+str(t) for t in range(1,TOTAL_TOPICS+1)])\n",
        "topics_df\n",
        "topics = topics_df.transpose()"
      ],
      "id": "spanish-teacher",
      "execution_count": null,
      "outputs": []
    },
    {
      "cell_type": "code",
      "metadata": {
        "id": "configured-bangladesh",
        "colab": {
          "base_uri": "https://localhost:8080/",
          "height": 50
        },
        "outputId": "7b9957f7-c8ae-4e3f-b9a7-0ed2344349b3"
      },
      "source": [
        "'''from google.colab import files\n",
        "from io import BytesIO\n",
        "from PIL import Image\n",
        "\n",
        "uploaded = files.upload()\n",
        "im = Image.open(BytesIO(uploaded['25403.png']))\n",
        "euro = np.array(im)'''"
      ],
      "id": "configured-bangladesh",
      "execution_count": null,
      "outputs": [
        {
          "output_type": "execute_result",
          "data": {
            "application/vnd.google.colaboratory.intrinsic+json": {
              "type": "string"
            },
            "text/plain": [
              "\"from google.colab import files\\nfrom io import BytesIO\\nfrom PIL import Image\\n\\nuploaded = files.upload()\\nim = Image.open(BytesIO(uploaded['25403.png']))\\neuro = np.array(im)\""
            ]
          },
          "metadata": {
            "tags": []
          },
          "execution_count": 89
        }
      ]
    },
    {
      "cell_type": "code",
      "metadata": {
        "id": "cross-retro",
        "colab": {
          "base_uri": "https://localhost:8080/",
          "height": 100
        },
        "outputId": "ebeb7354-1f0c-4b81-f5bb-c0da6ebff62a"
      },
      "source": [
        "'''''values = ','.join(str(v) for v in topics['Topic14']) \n",
        "# A similar function, but using the mask\n",
        "def generate_better_wordcloud(data, title, mask=None):\n",
        "    cloud = WordCloud(scale=3,\n",
        "                      max_words=150,\n",
        "                      colormap='Set1',\n",
        "                      mask=mask,\n",
        "                      background_color='black',\n",
        "                      stopwords=stop,\n",
        "                      collocations=True).generate_from_text(data)\n",
        "    plt.figure(figsize=(8 ,8))\n",
        "    plt.imshow(cloud)\n",
        "    plt.axis('off')\n",
        "    plt.title(title)\n",
        "    plt.show()\n",
        "    ''\n",
        "# Use the function with the rome_corpus and our mask to create word cloud     \n",
        "generate_better_wordcloud(values, 'Topic 14', mask=euro)'''"
      ],
      "id": "cross-retro",
      "execution_count": null,
      "outputs": [
        {
          "output_type": "execute_result",
          "data": {
            "application/vnd.google.colaboratory.intrinsic+json": {
              "type": "string"
            },
            "text/plain": [
              "\"''values = ','.join(str(v) for v in topics['Topic14']) \\n# A similar function, but using the mask\\ndef generate_better_wordcloud(data, title, mask=None):\\n    cloud = WordCloud(scale=3,\\n                      max_words=150,\\n                      colormap='Set1',\\n                      mask=mask,\\n                      background_color='black',\\n                      stopwords=stop,\\n                      collocations=True).generate_from_text(data)\\n    plt.figure(figsize=(8 ,8))\\n    plt.imshow(cloud)\\n    plt.axis('off')\\n    plt.title(title)\\n    plt.show()\\n    ''\\n# Use the function with the rome_corpus and our mask to create word cloud     \\ngenerate_better_wordcloud(values, 'Topic 14', mask=euro)\""
            ]
          },
          "metadata": {
            "tags": []
          },
          "execution_count": 90
        }
      ]
    },
    {
      "cell_type": "markdown",
      "metadata": {
        "id": "jIony8NLR6RE"
      },
      "source": [
        "### Sentimental Analysis"
      ],
      "id": "jIony8NLR6RE"
    },
    {
      "cell_type": "code",
      "metadata": {
        "id": "qIUS-tYaqJwK",
        "colab": {
          "base_uri": "https://localhost:8080/",
          "height": 158
        },
        "outputId": "79fb1707-707f-4c2e-a782-46f912f237e2"
      },
      "source": [
        "doc_topic = lda_model.transform(cv_features)\n",
        "list_topic = []\n",
        "for i in range(doc_topic.shape[0]):\n",
        "    topic_most_pr = doc_topic[i].argmax()\n",
        "    list_topic.append(topic_most_pr)\n",
        "df_sent['topic'] = list_topic\n",
        "df_sent.head(2)"
      ],
      "id": "qIUS-tYaqJwK",
      "execution_count": null,
      "outputs": [
        {
          "output_type": "execute_result",
          "data": {
            "text/html": [
              "<div>\n",
              "<style scoped>\n",
              "    .dataframe tbody tr th:only-of-type {\n",
              "        vertical-align: middle;\n",
              "    }\n",
              "\n",
              "    .dataframe tbody tr th {\n",
              "        vertical-align: top;\n",
              "    }\n",
              "\n",
              "    .dataframe thead th {\n",
              "        text-align: right;\n",
              "    }\n",
              "</style>\n",
              "<table border=\"1\" class=\"dataframe\">\n",
              "  <thead>\n",
              "    <tr style=\"text-align: right;\">\n",
              "      <th></th>\n",
              "      <th>yymm</th>\n",
              "      <th>sent</th>\n",
              "      <th>topic</th>\n",
              "    </tr>\n",
              "  </thead>\n",
              "  <tbody>\n",
              "    <tr>\n",
              "      <th>0</th>\n",
              "      <td>2021-05-01</td>\n",
              "      <td>SPEECH  Societal responsibility and central bank independence   Keynote speech by Isabel Schnabel, Member of the Executive Board of the ECB, at the “VIII</td>\n",
              "      <td>12</td>\n",
              "    </tr>\n",
              "    <tr>\n",
              "      <th>1</th>\n",
              "      <td>2021-05-01</td>\n",
              "      <td>New Paradigm Workshop”, organised by the Forum New Economy Frankfurt am Main, 27 May 2021 Central banking in times of shifting societal concerns The best contribution that central banks can make to economic prosperity is to maintain stable prices: this was the broad consensus among academic scholars and policymakers emerging in the late 1970s when inflation in many advanced economies had surged to double-digit levels, thereby eroding purchasing power and hitting the poorest in society the hardest (Chart 1)</td>\n",
              "      <td>13</td>\n",
              "    </tr>\n",
              "  </tbody>\n",
              "</table>\n",
              "</div>"
            ],
            "text/plain": [
              "        yymm  ... topic\n",
              "0 2021-05-01  ...    12\n",
              "1 2021-05-01  ...    13\n",
              "\n",
              "[2 rows x 3 columns]"
            ]
          },
          "metadata": {
            "tags": []
          },
          "execution_count": 15
        }
      ]
    },
    {
      "cell_type": "code",
      "metadata": {
        "colab": {
          "base_uri": "https://localhost:8080/",
          "height": 142
        },
        "id": "F8ugObtUSCpW",
        "outputId": "abbf30fb-f938-4be3-83ca-c609ca8b6917"
      },
      "source": [
        "sent1 = df_sent.loc[df_sent['topic']==1]\n",
        "sent3= df_sent.loc[df_sent['topic']==3]\n",
        "sent11 = df_sent.loc[df_sent['topic']==11]\n",
        "sent12 = df_sent.loc[df_sent['topic']==12]\n",
        "sent13 = df_sent.loc[df_sent['topic']==13]\n",
        "sent14 = df_sent.loc[df_sent['topic']==14]\n",
        "sent_all = sent1.append(sent3).append(sent11).append(sent12).append(sent13).append(sent14)\n",
        "sent_all = sent_all.reset_index(drop = True)\n",
        "df_topsent = sent_all.reset_index(drop = True)\n",
        "df_topsent.head(2)\n",
        "#df_topsent['sent'] = df_topsent.groupby(['yymm'])['sent'].transform(lambda x: ','.join(x.to_string(index=False)))\n",
        "df_topsent.head(2) #chan ghe ko lam dc nen thu lai luc nao co thoi gian"
      ],
      "id": "F8ugObtUSCpW",
      "execution_count": null,
      "outputs": [
        {
          "output_type": "execute_result",
          "data": {
            "text/html": [
              "<div>\n",
              "<style scoped>\n",
              "    .dataframe tbody tr th:only-of-type {\n",
              "        vertical-align: middle;\n",
              "    }\n",
              "\n",
              "    .dataframe tbody tr th {\n",
              "        vertical-align: top;\n",
              "    }\n",
              "\n",
              "    .dataframe thead th {\n",
              "        text-align: right;\n",
              "    }\n",
              "</style>\n",
              "<table border=\"1\" class=\"dataframe\">\n",
              "  <thead>\n",
              "    <tr style=\"text-align: right;\">\n",
              "      <th></th>\n",
              "      <th>yymm</th>\n",
              "      <th>sent</th>\n",
              "      <th>topic</th>\n",
              "    </tr>\n",
              "  </thead>\n",
              "  <tbody>\n",
              "    <tr>\n",
              "      <th>0</th>\n",
              "      <td>2021-05-01</td>\n",
              "      <td>Independent central banks cannot simply turn a deaf ear to the concerns of the public</td>\n",
              "      <td>1</td>\n",
              "    </tr>\n",
              "    <tr>\n",
              "      <th>1</th>\n",
              "      <td>2021-05-01</td>\n",
              "      <td>[8]  More so, independence requires a central bank to respond to the concerns of the public and to carefully evaluate whether and how it may be able, within its mandate, to respond to these concerns</td>\n",
              "      <td>1</td>\n",
              "    </tr>\n",
              "  </tbody>\n",
              "</table>\n",
              "</div>"
            ],
            "text/plain": [
              "        yymm  ... topic\n",
              "0 2021-05-01  ...     1\n",
              "1 2021-05-01  ...     1\n",
              "\n",
              "[2 rows x 3 columns]"
            ]
          },
          "metadata": {
            "tags": []
          },
          "execution_count": 16
        }
      ]
    },
    {
      "cell_type": "code",
      "metadata": {
        "colab": {
          "base_uri": "https://localhost:8080/",
          "height": 224
        },
        "id": "r2JU5qHKt9mc",
        "outputId": "3f54b131-7f0b-4e78-f11c-0a4b56b1a8e3"
      },
      "source": [
        "%matplotlib inline\n",
        "xvals = np.arange(len(df_sent['topic'].value_counts()))\n",
        "yvals = list(df_sent['topic'].value_counts())\n",
        "\n",
        "counts, bins, _ = plt.hist(df_sent['topic'],color = 'darkred')\n",
        "\n",
        "for n, b in zip(counts, bins):\n",
        "        plt.gca().text(b + 0.1, n, str(n))\n",
        "plt.ylabel('Number of sentences')\n",
        "plt.xlabel('Topic')\n",
        "plt.show()"
      ],
      "id": "r2JU5qHKt9mc",
      "execution_count": null,
      "outputs": [
        {
          "output_type": "error",
          "ename": "NameError",
          "evalue": "ignored",
          "traceback": [
            "\u001b[0;31m---------------------------------------------------------------------------\u001b[0m",
            "\u001b[0;31mNameError\u001b[0m                                 Traceback (most recent call last)",
            "\u001b[0;32m<ipython-input-17-0b6424e04c9c>\u001b[0m in \u001b[0;36m<module>\u001b[0;34m()\u001b[0m\n\u001b[1;32m      3\u001b[0m \u001b[0myvals\u001b[0m \u001b[0;34m=\u001b[0m \u001b[0mlist\u001b[0m\u001b[0;34m(\u001b[0m\u001b[0mdf_sent\u001b[0m\u001b[0;34m[\u001b[0m\u001b[0;34m'topic'\u001b[0m\u001b[0;34m]\u001b[0m\u001b[0;34m.\u001b[0m\u001b[0mvalue_counts\u001b[0m\u001b[0;34m(\u001b[0m\u001b[0;34m)\u001b[0m\u001b[0;34m)\u001b[0m\u001b[0;34m\u001b[0m\u001b[0;34m\u001b[0m\u001b[0m\n\u001b[1;32m      4\u001b[0m \u001b[0;34m\u001b[0m\u001b[0m\n\u001b[0;32m----> 5\u001b[0;31m \u001b[0mcounts\u001b[0m\u001b[0;34m,\u001b[0m \u001b[0mbins\u001b[0m\u001b[0;34m,\u001b[0m \u001b[0m_\u001b[0m \u001b[0;34m=\u001b[0m \u001b[0mplt\u001b[0m\u001b[0;34m.\u001b[0m\u001b[0mhist\u001b[0m\u001b[0;34m(\u001b[0m\u001b[0mdf_sent\u001b[0m\u001b[0;34m[\u001b[0m\u001b[0;34m'topic'\u001b[0m\u001b[0;34m]\u001b[0m\u001b[0;34m,\u001b[0m\u001b[0mcolor\u001b[0m \u001b[0;34m=\u001b[0m \u001b[0;34m'darkred'\u001b[0m\u001b[0;34m)\u001b[0m\u001b[0;34m\u001b[0m\u001b[0;34m\u001b[0m\u001b[0m\n\u001b[0m\u001b[1;32m      6\u001b[0m \u001b[0;34m\u001b[0m\u001b[0m\n\u001b[1;32m      7\u001b[0m \u001b[0;32mfor\u001b[0m \u001b[0mn\u001b[0m\u001b[0;34m,\u001b[0m \u001b[0mb\u001b[0m \u001b[0;32min\u001b[0m \u001b[0mzip\u001b[0m\u001b[0;34m(\u001b[0m\u001b[0mcounts\u001b[0m\u001b[0;34m,\u001b[0m \u001b[0mbins\u001b[0m\u001b[0;34m)\u001b[0m\u001b[0;34m:\u001b[0m\u001b[0;34m\u001b[0m\u001b[0;34m\u001b[0m\u001b[0m\n",
            "\u001b[0;31mNameError\u001b[0m: name 'plt' is not defined"
          ]
        }
      ]
    },
    {
      "cell_type": "code",
      "metadata": {
        "colab": {
          "base_uri": "https://localhost:8080/",
          "height": 224
        },
        "id": "Dn_Y0v_UtXEm",
        "outputId": "4dc25eda-0403-4199-ab67-febfe96cc73d"
      },
      "source": [
        "%matplotlib inline\n",
        "xvals = np.arange(len(df_topsent['topic'].value_counts()))\n",
        "yvals = list(df_topsent['topic'].value_counts())\n",
        "\n",
        "counts, bins, _ = plt.hist(df_topsent['topic'], color = 'darkred')\n",
        "\n",
        "for n, b in zip(counts, bins):\n",
        "        plt.gca().text(b + 0.1, n, str(n))\n",
        "plt.ylabel('Number of sentences')\n",
        "plt.xlabel('Topic')\n",
        "plt.show()"
      ],
      "id": "Dn_Y0v_UtXEm",
      "execution_count": null,
      "outputs": [
        {
          "output_type": "error",
          "ename": "NameError",
          "evalue": "ignored",
          "traceback": [
            "\u001b[0;31m---------------------------------------------------------------------------\u001b[0m",
            "\u001b[0;31mNameError\u001b[0m                                 Traceback (most recent call last)",
            "\u001b[0;32m<ipython-input-18-82e67ce64d7c>\u001b[0m in \u001b[0;36m<module>\u001b[0;34m()\u001b[0m\n\u001b[1;32m      3\u001b[0m \u001b[0myvals\u001b[0m \u001b[0;34m=\u001b[0m \u001b[0mlist\u001b[0m\u001b[0;34m(\u001b[0m\u001b[0mdf_topsent\u001b[0m\u001b[0;34m[\u001b[0m\u001b[0;34m'topic'\u001b[0m\u001b[0;34m]\u001b[0m\u001b[0;34m.\u001b[0m\u001b[0mvalue_counts\u001b[0m\u001b[0;34m(\u001b[0m\u001b[0;34m)\u001b[0m\u001b[0;34m)\u001b[0m\u001b[0;34m\u001b[0m\u001b[0;34m\u001b[0m\u001b[0m\n\u001b[1;32m      4\u001b[0m \u001b[0;34m\u001b[0m\u001b[0m\n\u001b[0;32m----> 5\u001b[0;31m \u001b[0mcounts\u001b[0m\u001b[0;34m,\u001b[0m \u001b[0mbins\u001b[0m\u001b[0;34m,\u001b[0m \u001b[0m_\u001b[0m \u001b[0;34m=\u001b[0m \u001b[0mplt\u001b[0m\u001b[0;34m.\u001b[0m\u001b[0mhist\u001b[0m\u001b[0;34m(\u001b[0m\u001b[0mdf_topsent\u001b[0m\u001b[0;34m[\u001b[0m\u001b[0;34m'topic'\u001b[0m\u001b[0;34m]\u001b[0m\u001b[0;34m,\u001b[0m \u001b[0mcolor\u001b[0m \u001b[0;34m=\u001b[0m \u001b[0;34m'darkred'\u001b[0m\u001b[0;34m)\u001b[0m\u001b[0;34m\u001b[0m\u001b[0;34m\u001b[0m\u001b[0m\n\u001b[0m\u001b[1;32m      6\u001b[0m \u001b[0;34m\u001b[0m\u001b[0m\n\u001b[1;32m      7\u001b[0m \u001b[0;32mfor\u001b[0m \u001b[0mn\u001b[0m\u001b[0;34m,\u001b[0m \u001b[0mb\u001b[0m \u001b[0;32min\u001b[0m \u001b[0mzip\u001b[0m\u001b[0;34m(\u001b[0m\u001b[0mcounts\u001b[0m\u001b[0;34m,\u001b[0m \u001b[0mbins\u001b[0m\u001b[0;34m)\u001b[0m\u001b[0;34m:\u001b[0m\u001b[0;34m\u001b[0m\u001b[0;34m\u001b[0m\u001b[0m\n",
            "\u001b[0;31mNameError\u001b[0m: name 'plt' is not defined"
          ]
        }
      ]
    },
    {
      "cell_type": "code",
      "metadata": {
        "id": "qXnhKCxPVuBw"
      },
      "source": [
        "#print(df_topsent.shape) #dataframe from 46k to 13k"
      ],
      "id": "qXnhKCxPVuBw",
      "execution_count": null,
      "outputs": []
    },
    {
      "cell_type": "code",
      "metadata": {
        "colab": {
          "base_uri": "https://localhost:8080/"
        },
        "id": "ElNmvDaMycRE",
        "outputId": "cd9e994e-d5b6-46a8-d4ab-f6595750687d"
      },
      "source": [
        "df_ts = df_topsent[ df_topsent['sent'].astype(str) == df_topsent['sent']]\n",
        "print(df_ts.shape)"
      ],
      "id": "ElNmvDaMycRE",
      "execution_count": null,
      "outputs": [
        {
          "output_type": "stream",
          "text": [
            "(13508, 3)\n"
          ],
          "name": "stdout"
        }
      ]
    },
    {
      "cell_type": "code",
      "metadata": {
        "colab": {
          "base_uri": "https://localhost:8080/"
        },
        "id": "zrERLw6Ll0aq",
        "outputId": "6f0fac94-1ea7-499c-a2a5-26b433c3e6e4"
      },
      "source": [
        "pip install vaderSentiment"
      ],
      "id": "zrERLw6Ll0aq",
      "execution_count": null,
      "outputs": [
        {
          "output_type": "stream",
          "text": [
            "Collecting vaderSentiment\n",
            "\u001b[?25l  Downloading https://files.pythonhosted.org/packages/76/fc/310e16254683c1ed35eeb97386986d6c00bc29df17ce280aed64d55537e9/vaderSentiment-3.3.2-py2.py3-none-any.whl (125kB)\n",
            "\r\u001b[K     |██▋                             | 10kB 22.4MB/s eta 0:00:01\r\u001b[K     |█████▏                          | 20kB 26.5MB/s eta 0:00:01\r\u001b[K     |███████▉                        | 30kB 31.9MB/s eta 0:00:01\r\u001b[K     |██████████▍                     | 40kB 34.4MB/s eta 0:00:01\r\u001b[K     |█████████████                   | 51kB 36.2MB/s eta 0:00:01\r\u001b[K     |███████████████▋                | 61kB 36.0MB/s eta 0:00:01\r\u001b[K     |██████████████████▏             | 71kB 35.4MB/s eta 0:00:01\r\u001b[K     |████████████████████▉           | 81kB 34.0MB/s eta 0:00:01\r\u001b[K     |███████████████████████▍        | 92kB 34.1MB/s eta 0:00:01\r\u001b[K     |██████████████████████████      | 102kB 35.5MB/s eta 0:00:01\r\u001b[K     |████████████████████████████▋   | 112kB 35.5MB/s eta 0:00:01\r\u001b[K     |███████████████████████████████▏| 122kB 35.5MB/s eta 0:00:01\r\u001b[K     |████████████████████████████████| 133kB 35.5MB/s \n",
            "\u001b[?25hRequirement already satisfied: requests in /usr/local/lib/python3.7/dist-packages (from vaderSentiment) (2.23.0)\n",
            "Requirement already satisfied: chardet<4,>=3.0.2 in /usr/local/lib/python3.7/dist-packages (from requests->vaderSentiment) (3.0.4)\n",
            "Requirement already satisfied: certifi>=2017.4.17 in /usr/local/lib/python3.7/dist-packages (from requests->vaderSentiment) (2021.5.30)\n",
            "Requirement already satisfied: idna<3,>=2.5 in /usr/local/lib/python3.7/dist-packages (from requests->vaderSentiment) (2.10)\n",
            "Requirement already satisfied: urllib3!=1.25.0,!=1.25.1,<1.26,>=1.21.1 in /usr/local/lib/python3.7/dist-packages (from requests->vaderSentiment) (1.24.3)\n",
            "Installing collected packages: vaderSentiment\n",
            "Successfully installed vaderSentiment-3.3.2\n"
          ],
          "name": "stdout"
        }
      ]
    },
    {
      "cell_type": "code",
      "metadata": {
        "colab": {
          "base_uri": "https://localhost:8080/"
        },
        "id": "u_zn2vMSv5gE",
        "outputId": "3fa112e8-2ad1-469a-be02-dfc419c3a268"
      },
      "source": [
        "nltk.download('vader_lexicon')"
      ],
      "id": "u_zn2vMSv5gE",
      "execution_count": null,
      "outputs": [
        {
          "output_type": "stream",
          "text": [
            "[nltk_data] Downloading package vader_lexicon to /root/nltk_data...\n"
          ],
          "name": "stdout"
        },
        {
          "output_type": "execute_result",
          "data": {
            "text/plain": [
              "True"
            ]
          },
          "metadata": {
            "tags": []
          },
          "execution_count": 22
        }
      ]
    },
    {
      "cell_type": "code",
      "metadata": {
        "colab": {
          "base_uri": "https://localhost:8080/",
          "height": 132
        },
        "id": "z1t62Y1jrwXd",
        "outputId": "f6efc272-a5fa-436c-c8f5-1995f1885e9e"
      },
      "source": [
        "from vaderSentiment.vaderSentiment import SentimentIntensityAnalyzer\n",
        "'''''# function to print sentiments\n",
        "# of the sentence.\n",
        "def sentiment_scores(sentence):\n",
        " \n",
        "    # Create a SentimentIntensityAnalyzer object.\n",
        "    analyzer = SentimentIntensityAnalyzer()\n",
        " \n",
        "    # polarity_scores method of SentimentIntensityAnalyzer\n",
        "    # object gives a sentiment dictionary.\n",
        "    # which contains pos, neg, neu, and compound scores.\n",
        "    sentiment_dict = analyzer.polarity_scores(sentence)\n",
        "     \n",
        "    print(\"Overall sentiment dictionary is : \", sentiment_dict)\n",
        "    print(\"sentence was rated as \", sentiment_dict['neg']*100, \"% Negative\")\n",
        "    print(\"sentence was rated as \", sentiment_dict['neu']*100, \"% Neutral\")\n",
        "    print(\"sentence was rated as \", sentiment_dict['pos']*100, \"% Positive\")\n",
        " \n",
        "    print(\"Sentence Overall Rated As\", end = \" \")\n",
        "      # decide sentiment as positive, negative and neutral\n",
        "    if sentiment_dict['compound'] >= 0.05 :\n",
        "        print(\"Positive\")\n",
        " \n",
        "    elif sentiment_dict['compound'] <= - 0.05 :\n",
        "        print(\"Negative\")\n",
        " \n",
        "    else :''\n",
        "        print(\"Neutral\")'''\n",
        " \n",
        "  \n",
        " "
      ],
      "id": "z1t62Y1jrwXd",
      "execution_count": null,
      "outputs": [
        {
          "output_type": "execute_result",
          "data": {
            "application/vnd.google.colaboratory.intrinsic+json": {
              "type": "string"
            },
            "text/plain": [
              "'\\'\\'# function to print sentiments\\n# of the sentence.\\ndef sentiment_scores(sentence):\\n \\n    # Create a SentimentIntensityAnalyzer object.\\n    analyzer = SentimentIntensityAnalyzer()\\n \\n    # polarity_scores method of SentimentIntensityAnalyzer\\n    # object gives a sentiment dictionary.\\n    # which contains pos, neg, neu, and compound scores.\\n    sentiment_dict = analyzer.polarity_scores(sentence)\\n     \\n    print(\"Overall sentiment dictionary is : \", sentiment_dict)\\n    print(\"sentence was rated as \", sentiment_dict[\\'neg\\']*100, \"% Negative\")\\n    print(\"sentence was rated as \", sentiment_dict[\\'neu\\']*100, \"% Neutral\")\\n    print(\"sentence was rated as \", sentiment_dict[\\'pos\\']*100, \"% Positive\")\\n \\n    print(\"Sentence Overall Rated As\", end = \" \")\\n      # decide sentiment as positive, negative and neutral\\n    if sentiment_dict[\\'compound\\'] >= 0.05 :\\n        print(\"Positive\")\\n \\n    elif sentiment_dict[\\'compound\\'] <= - 0.05 :\\n        print(\"Negative\")\\n \\n    else :\\'\\'\\n        print(\"Neutral\")'"
            ]
          },
          "metadata": {
            "tags": []
          },
          "execution_count": 23
        }
      ]
    },
    {
      "cell_type": "code",
      "metadata": {
        "colab": {
          "base_uri": "https://localhost:8080/",
          "height": 95
        },
        "id": "X4uTvnYlsKjP",
        "outputId": "0824f33e-b257-402d-a907-be60feefd107"
      },
      "source": [
        "df_ts.iloc[1140:1141,:] #NEGATIVE SENTENCE"
      ],
      "id": "X4uTvnYlsKjP",
      "execution_count": null,
      "outputs": [
        {
          "output_type": "execute_result",
          "data": {
            "text/html": [
              "<div>\n",
              "<style scoped>\n",
              "    .dataframe tbody tr th:only-of-type {\n",
              "        vertical-align: middle;\n",
              "    }\n",
              "\n",
              "    .dataframe tbody tr th {\n",
              "        vertical-align: top;\n",
              "    }\n",
              "\n",
              "    .dataframe thead th {\n",
              "        text-align: right;\n",
              "    }\n",
              "</style>\n",
              "<table border=\"1\" class=\"dataframe\">\n",
              "  <thead>\n",
              "    <tr style=\"text-align: right;\">\n",
              "      <th></th>\n",
              "      <th>yymm</th>\n",
              "      <th>sent</th>\n",
              "      <th>topic</th>\n",
              "    </tr>\n",
              "  </thead>\n",
              "  <tbody>\n",
              "    <tr>\n",
              "      <th>1140</th>\n",
              "      <td>2019-07-01</td>\n",
              "      <td>To a significant extent, this sequence of low inflation rates reflects the prolonged adjustment dynamics that characterise the aftermath of a major global financial crisis, together with a substantial downward shift in the realisation of shocks to inflation that we have observed in recent years</td>\n",
              "      <td>1</td>\n",
              "    </tr>\n",
              "  </tbody>\n",
              "</table>\n",
              "</div>"
            ],
            "text/plain": [
              "           yymm  ... topic\n",
              "1140 2019-07-01  ...     1\n",
              "\n",
              "[1 rows x 3 columns]"
            ]
          },
          "metadata": {
            "tags": []
          },
          "execution_count": 24
        }
      ]
    },
    {
      "cell_type": "code",
      "metadata": {
        "colab": {
          "base_uri": "https://localhost:8080/",
          "height": 584
        },
        "id": "l8MVrSFgsuG8",
        "outputId": "a4b8bc48-2f8f-4710-c182-82d4d5207393"
      },
      "source": [
        "analyzer = SentimentIntensityAnalyzer()\n",
        "df_ts['neg'] = df_ts['sent'].apply(lambda x: analyzer.polarity_scores(x)['neg'])\n",
        "df_ts['neu'] = df_ts['sent'].apply(lambda x:analyzer.polarity_scores(x)['neu'])\n",
        "df_ts['pos'] = df_ts['sent'].apply(lambda x:analyzer.polarity_scores(x)['pos'])\n",
        "df_ts['compound'] = df_ts['sent'].apply(lambda x:analyzer.polarity_scores(x)['compound'])\n",
        "df_ts.head(3)"
      ],
      "id": "l8MVrSFgsuG8",
      "execution_count": null,
      "outputs": [
        {
          "output_type": "stream",
          "text": [
            "/usr/local/lib/python3.7/dist-packages/ipykernel_launcher.py:2: SettingWithCopyWarning: \n",
            "A value is trying to be set on a copy of a slice from a DataFrame.\n",
            "Try using .loc[row_indexer,col_indexer] = value instead\n",
            "\n",
            "See the caveats in the documentation: https://pandas.pydata.org/pandas-docs/stable/user_guide/indexing.html#returning-a-view-versus-a-copy\n",
            "  \n",
            "/usr/local/lib/python3.7/dist-packages/ipykernel_launcher.py:3: SettingWithCopyWarning: \n",
            "A value is trying to be set on a copy of a slice from a DataFrame.\n",
            "Try using .loc[row_indexer,col_indexer] = value instead\n",
            "\n",
            "See the caveats in the documentation: https://pandas.pydata.org/pandas-docs/stable/user_guide/indexing.html#returning-a-view-versus-a-copy\n",
            "  This is separate from the ipykernel package so we can avoid doing imports until\n",
            "/usr/local/lib/python3.7/dist-packages/ipykernel_launcher.py:4: SettingWithCopyWarning: \n",
            "A value is trying to be set on a copy of a slice from a DataFrame.\n",
            "Try using .loc[row_indexer,col_indexer] = value instead\n",
            "\n",
            "See the caveats in the documentation: https://pandas.pydata.org/pandas-docs/stable/user_guide/indexing.html#returning-a-view-versus-a-copy\n",
            "  after removing the cwd from sys.path.\n",
            "/usr/local/lib/python3.7/dist-packages/ipykernel_launcher.py:5: SettingWithCopyWarning: \n",
            "A value is trying to be set on a copy of a slice from a DataFrame.\n",
            "Try using .loc[row_indexer,col_indexer] = value instead\n",
            "\n",
            "See the caveats in the documentation: https://pandas.pydata.org/pandas-docs/stable/user_guide/indexing.html#returning-a-view-versus-a-copy\n",
            "  \"\"\"\n"
          ],
          "name": "stderr"
        },
        {
          "output_type": "execute_result",
          "data": {
            "text/html": [
              "<div>\n",
              "<style scoped>\n",
              "    .dataframe tbody tr th:only-of-type {\n",
              "        vertical-align: middle;\n",
              "    }\n",
              "\n",
              "    .dataframe tbody tr th {\n",
              "        vertical-align: top;\n",
              "    }\n",
              "\n",
              "    .dataframe thead th {\n",
              "        text-align: right;\n",
              "    }\n",
              "</style>\n",
              "<table border=\"1\" class=\"dataframe\">\n",
              "  <thead>\n",
              "    <tr style=\"text-align: right;\">\n",
              "      <th></th>\n",
              "      <th>yymm</th>\n",
              "      <th>sent</th>\n",
              "      <th>topic</th>\n",
              "      <th>neg</th>\n",
              "      <th>neu</th>\n",
              "      <th>pos</th>\n",
              "      <th>compound</th>\n",
              "    </tr>\n",
              "  </thead>\n",
              "  <tbody>\n",
              "    <tr>\n",
              "      <th>0</th>\n",
              "      <td>2021-05-01</td>\n",
              "      <td>Independent central banks cannot simply turn a deaf ear to the concerns of the public</td>\n",
              "      <td>1</td>\n",
              "      <td>0.0</td>\n",
              "      <td>1.000</td>\n",
              "      <td>0.000</td>\n",
              "      <td>0.000</td>\n",
              "    </tr>\n",
              "    <tr>\n",
              "      <th>1</th>\n",
              "      <td>2021-05-01</td>\n",
              "      <td>[8]  More so, independence requires a central bank to respond to the concerns of the public and to carefully evaluate whether and how it may be able, within its mandate, to respond to these concerns</td>\n",
              "      <td>1</td>\n",
              "      <td>0.0</td>\n",
              "      <td>0.958</td>\n",
              "      <td>0.042</td>\n",
              "      <td>0.128</td>\n",
              "    </tr>\n",
              "    <tr>\n",
              "      <th>2</th>\n",
              "      <td>2021-05-01</td>\n",
              "      <td>Independent central banks have a duty to respond to the concerns of the public and to carefully evaluate whether and how they may be able, within their mandate, to respond to these concerns</td>\n",
              "      <td>1</td>\n",
              "      <td>0.0</td>\n",
              "      <td>0.955</td>\n",
              "      <td>0.045</td>\n",
              "      <td>0.128</td>\n",
              "    </tr>\n",
              "  </tbody>\n",
              "</table>\n",
              "</div>"
            ],
            "text/plain": [
              "        yymm  ... compound\n",
              "0 2021-05-01  ...    0.000\n",
              "1 2021-05-01  ...    0.128\n",
              "2 2021-05-01  ...    0.128\n",
              "\n",
              "[3 rows x 7 columns]"
            ]
          },
          "metadata": {
            "tags": []
          },
          "execution_count": 25
        }
      ]
    },
    {
      "cell_type": "markdown",
      "metadata": {
        "id": "a2DfuCEr11Dl"
      },
      "source": [
        "### Exercises: Create sentimental by month and topics"
      ],
      "id": "a2DfuCEr11Dl"
    },
    {
      "cell_type": "code",
      "metadata": {
        "colab": {
          "base_uri": "https://localhost:8080/"
        },
        "id": "2v4qWNsY07f0",
        "outputId": "d4471780-7020-4ea7-bea6-ee97f61829c7"
      },
      "source": [
        "df_ts.groupby(['yymm','topic'])['compound'].agg('sum')\n"
      ],
      "id": "2v4qWNsY07f0",
      "execution_count": null,
      "outputs": [
        {
          "output_type": "execute_result",
          "data": {
            "text/plain": [
              "yymm        topic\n",
              "2018-01-01  1        2.3655\n",
              "            3        6.4080\n",
              "            11       1.5225\n",
              "            12       2.5229\n",
              "            13      -1.2991\n",
              "                      ...  \n",
              "2021-05-01  3        5.1469\n",
              "            11       0.9669\n",
              "            12       2.4416\n",
              "            13       3.6310\n",
              "            14       0.1894\n",
              "Name: compound, Length: 243, dtype: float64"
            ]
          },
          "metadata": {
            "tags": []
          },
          "execution_count": 26
        }
      ]
    },
    {
      "cell_type": "markdown",
      "metadata": {
        "id": "2vkGh8Fh03ld"
      },
      "source": [
        "### Time Series sentimental by month, groupby compound"
      ],
      "id": "2vkGh8Fh03ld"
    },
    {
      "cell_type": "code",
      "metadata": {
        "id": "U5ubEWRJbI6S"
      },
      "source": [
        "from matplotlib import pyplot as plt\n",
        "import matplotlib.ticker as plticker"
      ],
      "id": "U5ubEWRJbI6S",
      "execution_count": null,
      "outputs": []
    },
    {
      "cell_type": "code",
      "metadata": {
        "colab": {
          "base_uri": "https://localhost:8080/",
          "height": 170
        },
        "id": "i6JhZXk_xhu4",
        "outputId": "c455b080-8725-4148-ee89-99cc80b76621"
      },
      "source": [
        "posm = df_ts.groupby(['yymm'])['pos'].agg('sum') \n",
        "negm = df_ts.groupby(['yymm'])['neg'].agg('sum')\n",
        "neum = df_ts.groupby(['yymm'])['neu'].agg('sum')\n",
        "compoundm = df_ts.groupby(['yymm'])['compound'].agg('sum')\n",
        "ts_sent = pd.DataFrame({'pos':posm, 'neg':negm,'neu': neum,'compound': compoundm})\n",
        "ts_sent.head(3)"
      ],
      "id": "i6JhZXk_xhu4",
      "execution_count": null,
      "outputs": [
        {
          "output_type": "execute_result",
          "data": {
            "text/html": [
              "<div>\n",
              "<style scoped>\n",
              "    .dataframe tbody tr th:only-of-type {\n",
              "        vertical-align: middle;\n",
              "    }\n",
              "\n",
              "    .dataframe tbody tr th {\n",
              "        vertical-align: top;\n",
              "    }\n",
              "\n",
              "    .dataframe thead th {\n",
              "        text-align: right;\n",
              "    }\n",
              "</style>\n",
              "<table border=\"1\" class=\"dataframe\">\n",
              "  <thead>\n",
              "    <tr style=\"text-align: right;\">\n",
              "      <th></th>\n",
              "      <th>pos</th>\n",
              "      <th>neg</th>\n",
              "      <th>neu</th>\n",
              "      <th>compound</th>\n",
              "    </tr>\n",
              "    <tr>\n",
              "      <th>yymm</th>\n",
              "      <th></th>\n",
              "      <th></th>\n",
              "      <th></th>\n",
              "      <th></th>\n",
              "    </tr>\n",
              "  </thead>\n",
              "  <tbody>\n",
              "    <tr>\n",
              "      <th>2018-01-01</th>\n",
              "      <td>10.584</td>\n",
              "      <td>7.567</td>\n",
              "      <td>131.854</td>\n",
              "      <td>12.8740</td>\n",
              "    </tr>\n",
              "    <tr>\n",
              "      <th>2018-02-01</th>\n",
              "      <td>53.648</td>\n",
              "      <td>22.588</td>\n",
              "      <td>468.762</td>\n",
              "      <td>92.5362</td>\n",
              "    </tr>\n",
              "    <tr>\n",
              "      <th>2018-03-01</th>\n",
              "      <td>32.075</td>\n",
              "      <td>23.194</td>\n",
              "      <td>323.733</td>\n",
              "      <td>17.6964</td>\n",
              "    </tr>\n",
              "  </tbody>\n",
              "</table>\n",
              "</div>"
            ],
            "text/plain": [
              "               pos     neg      neu  compound\n",
              "yymm                                         \n",
              "2018-01-01  10.584   7.567  131.854   12.8740\n",
              "2018-02-01  53.648  22.588  468.762   92.5362\n",
              "2018-03-01  32.075  23.194  323.733   17.6964"
            ]
          },
          "metadata": {
            "tags": []
          },
          "execution_count": 28
        }
      ]
    },
    {
      "cell_type": "code",
      "metadata": {
        "colab": {
          "base_uri": "https://localhost:8080/",
          "height": 402
        },
        "id": "0ktePEu47trV",
        "outputId": "5495363e-0b98-43ce-f240-87af75018beb"
      },
      "source": [
        "fig, ax = plt.subplots(figsize=(10, 6))\n",
        "axb = ax.twinx()\n",
        "\n",
        "# Same as above\n",
        "ax.set_xlabel('Date')\n",
        "ax.set_ylabel('Sentimental indexes')\n",
        "ax.set_title('Sentimental time series')\n",
        "ax.grid(True)\n",
        "\n",
        "ax.plot(ts_sent['yymm'], ts_sent['pos'], color='indigo', label='Positive lexicon ',linestyle = '-.',linewidth=1.5)\n",
        "ax.plot(ts_sent['yymm'], -ts_sent['neg'], color='darkblue', label='Negative lexicon',linestyle = '-', linewidth=1.5)\n",
        "ax.plot(ts_sent['yymm'], ts_sent['neu'], color='blue', label='Neutral lexicon', linewidth=1.5)\n",
        "ax.plot(ts_sent['yymm'], ts_sent['posneg'], color='red', label='PosNeg Lexicon',linestyle = '--',linewidth = 2.0)\n",
        "ax.plot(ts_sent['yymm'], ts_sent['compound'] , color='purple', label='Compound',linewidth = 2.0)\n",
        "\n",
        "# Merging legend\n",
        "lines, labels = ax.get_legend_handles_labels()\n",
        "#lines2, labels2 = axb.get_legend_handles_labels()\n",
        "axb.legend(lines, labels, loc='upper center');\n",
        "\n",
        "#plt.savefig('nameofp.png')"
      ],
      "id": "0ktePEu47trV",
      "execution_count": null,
      "outputs": [
        {
          "output_type": "display_data",
          "data": {
            "image/png": "[encoded data removed]",
            "text/plain": [
              "<Figure size 720x432 with 2 Axes>"
            ]
          },
          "metadata": {
            "tags": [],
            "needs_background": "light"
          }
        }
      ]
    },
    {
      "cell_type": "code",
      "metadata": {
        "colab": {
          "base_uri": "https://localhost:8080/",
          "height": 402
        },
        "id": "rHsVRkDjeHir",
        "outputId": "738622de-6bae-4c8f-cc60-5e37b7d01a5b"
      },
      "source": [
        "ts_sent['posneg']=ts_sent['pos'] - ts_sent['neg']\n",
        "\n",
        "fig, ax = plt.subplots(figsize=(10, 6))\n",
        "axb = ax.twinx()\n",
        "# Same as above\n",
        "ax.set_xlabel('Date')\n",
        "ax.set_ylabel('Sentimental indexes')\n",
        "ax.set_title('Sentimental time series')\n",
        "ax.grid(True)\n",
        "\n",
        "ax.plot(ts_sent['yymm'], ts_sent['posneg'], color='indigo', label='PosNeg Lexicon',linewidth = 2.0)\n",
        "ax.plot(ts_sent['yymm'], ts_sent['compound'] , color='grey',linestyle = '-.', label='Compound',linewidth = 2.0)\n",
        "\n",
        "#legend\n",
        "lines, labels = ax.get_legend_handles_labels()\n",
        "axb.legend(lines, labels, loc='upper right');\n"
      ],
      "id": "rHsVRkDjeHir",
      "execution_count": null,
      "outputs": [
        {
          "output_type": "display_data",
          "data": {
            "image/png": "[encoded data removed]",
            "text/plain": [
              "<Figure size 720x432 with 2 Axes>"
            ]
          },
          "metadata": {
            "tags": [],
            "needs_background": "light"
          }
        }
      ]
    },
    {
      "cell_type": "code",
      "metadata": {
        "colab": {
          "base_uri": "https://localhost:8080/"
        },
        "id": "9xEItm897OQi",
        "outputId": "6be0efd7-836c-4c26-8c31-3d0e8560261c"
      },
      "source": [
        "ts_sent.shape"
      ],
      "id": "9xEItm897OQi",
      "execution_count": null,
      "outputs": [
        {
          "output_type": "execute_result",
          "data": {
            "text/plain": [
              "(41, 5)"
            ]
          },
          "metadata": {
            "tags": []
          },
          "execution_count": 105
        }
      ]
    },
    {
      "cell_type": "markdown",
      "metadata": {
        "id": "sRVm59b0k8qI"
      },
      "source": [
        "### Save data to drive"
      ],
      "id": "sRVm59b0k8qI"
    },
    {
      "cell_type": "code",
      "metadata": {
        "colab": {
          "base_uri": "https://localhost:8080/",
          "height": 34
        },
        "id": "WNoXe_bckqOB",
        "outputId": "18201fdd-7c59-4298-ed36-c621e12f7a0e"
      },
      "source": [
        "'''from google.colab import drive\n",
        "drive.mount('drive')\n",
        "ts_sent.to_csv('ts_sent.csv')\n",
        "!cp ts_sent.csv \"drive/My Drive/\"'''"
      ],
      "id": "WNoXe_bckqOB",
      "execution_count": null,
      "outputs": [
        {
          "output_type": "execute_result",
          "data": {
            "application/vnd.google.colaboratory.intrinsic+json": {
              "type": "string"
            },
            "text/plain": [
              "'from google.colab import drive\\ndrive.mount(\\'drive\\')\\nts_sent.to_csv(\\'ts_sent.csv\\')\\n!cp ts_sent.csv \"drive/My Drive/\"'"
            ]
          },
          "metadata": {
            "tags": []
          },
          "execution_count": 106
        }
      ]
    },
    {
      "cell_type": "code",
      "metadata": {
        "colab": {
          "base_uri": "https://localhost:8080/",
          "height": 32
        },
        "id": "ZhhlX79N7O1k",
        "outputId": "89d6b4f2-705c-464d-fd75-59f807ad4a8d"
      },
      "source": [
        "from google.colab import files\n",
        "ts_sent.to_csv('ts_sent.csv') \n",
        "files.download(\"ts_sent.csv\")\n",
        "%timeit"
      ],
      "id": "ZhhlX79N7O1k",
      "execution_count": null,
      "outputs": [
        {
          "output_type": "display_data",
          "data": {
            "application/javascript": [
              "\n",
              "    async function download(id, filename, size) {\n",
              "      if (!google.colab.kernel.accessAllowed) {\n",
              "        return;\n",
              "      }\n",
              "      const div = document.createElement('div');\n",
              "      const label = document.createElement('label');\n",
              "      label.textContent = `Downloading \"${filename}\": `;\n",
              "      div.appendChild(label);\n",
              "      const progress = document.createElement('progress');\n",
              "      progress.max = size;\n",
              "      div.appendChild(progress);\n",
              "      document.body.appendChild(div);\n",
              "\n",
              "      const buffers = [];\n",
              "      let downloaded = 0;\n",
              "\n",
              "      const channel = await google.colab.kernel.comms.open(id);\n",
              "      // Send a message to notify the kernel that we're ready.\n",
              "      channel.send({})\n",
              "\n",
              "      for await (const message of channel.messages) {\n",
              "        // Send a message to notify the kernel that we're ready.\n",
              "        channel.send({})\n",
              "        if (message.buffers) {\n",
              "          for (const buffer of message.buffers) {\n",
              "            buffers.push(buffer);\n",
              "            downloaded += buffer.byteLength;\n",
              "            progress.value = downloaded;\n",
              "          }\n",
              "        }\n",
              "      }\n",
              "      const blob = new Blob(buffers, {type: 'application/binary'});\n",
              "      const a = document.createElement('a');\n",
              "      a.href = window.URL.createObjectURL(blob);\n",
              "      a.download = filename;\n",
              "      div.appendChild(a);\n",
              "      a.click();\n",
              "      div.remove();\n",
              "    }\n",
              "  "
            ],
            "text/plain": [
              "<IPython.core.display.Javascript object>"
            ]
          },
          "metadata": {
            "tags": []
          }
        },
        {
          "output_type": "display_data",
          "data": {
            "application/javascript": [
              "download(\"download_50da48cc-7137-4549-9e42-3e5860bf86aa\", \"ts_sent.csv\", 3131)"
            ],
            "text/plain": [
              "<IPython.core.display.Javascript object>"
            ]
          },
          "metadata": {
            "tags": []
          }
        }
      ]
    },
    {
      "cell_type": "markdown",
      "metadata": {
        "id": "Jtf01Lmlgurr"
      },
      "source": [
        "## Yield Curves"
      ],
      "id": "Jtf01Lmlgurr"
    },
    {
      "cell_type": "code",
      "metadata": {
        "colab": {
          "base_uri": "https://localhost:8080/",
          "height": 140
        },
        "id": "Cix9NqbW1Fwq",
        "outputId": "b2fcc200-43a4-4cde-8997-6a4754cdacc6"
      },
      "source": [
        "ts_sent.head(2)"
      ],
      "id": "Cix9NqbW1Fwq",
      "execution_count": null,
      "outputs": [
        {
          "output_type": "execute_result",
          "data": {
            "text/html": [
              "<div>\n",
              "<style scoped>\n",
              "    .dataframe tbody tr th:only-of-type {\n",
              "        vertical-align: middle;\n",
              "    }\n",
              "\n",
              "    .dataframe tbody tr th {\n",
              "        vertical-align: top;\n",
              "    }\n",
              "\n",
              "    .dataframe thead th {\n",
              "        text-align: right;\n",
              "    }\n",
              "</style>\n",
              "<table border=\"1\" class=\"dataframe\">\n",
              "  <thead>\n",
              "    <tr style=\"text-align: right;\">\n",
              "      <th></th>\n",
              "      <th>pos</th>\n",
              "      <th>neg</th>\n",
              "      <th>neu</th>\n",
              "      <th>compound</th>\n",
              "    </tr>\n",
              "    <tr>\n",
              "      <th>yymm</th>\n",
              "      <th></th>\n",
              "      <th></th>\n",
              "      <th></th>\n",
              "      <th></th>\n",
              "    </tr>\n",
              "  </thead>\n",
              "  <tbody>\n",
              "    <tr>\n",
              "      <th>2018-01-01</th>\n",
              "      <td>10.584</td>\n",
              "      <td>7.567</td>\n",
              "      <td>131.854</td>\n",
              "      <td>12.8740</td>\n",
              "    </tr>\n",
              "    <tr>\n",
              "      <th>2018-02-01</th>\n",
              "      <td>53.648</td>\n",
              "      <td>22.588</td>\n",
              "      <td>468.762</td>\n",
              "      <td>92.5362</td>\n",
              "    </tr>\n",
              "  </tbody>\n",
              "</table>\n",
              "</div>"
            ],
            "text/plain": [
              "               pos     neg      neu  compound\n",
              "yymm                                         \n",
              "2018-01-01  10.584   7.567  131.854   12.8740\n",
              "2018-02-01  53.648  22.588  468.762   92.5362"
            ]
          },
          "metadata": {
            "tags": []
          },
          "execution_count": 30
        }
      ]
    },
    {
      "cell_type": "code",
      "metadata": {
        "colab": {
          "base_uri": "https://localhost:8080/",
          "height": 1000
        },
        "id": "5q5A00L4GOXj",
        "outputId": "c1d93d70-a9f4-43f6-d2e2-52b401850eb4"
      },
      "source": [
        "x = len(ts_sent)\n",
        "num_index = range(0,x,1)\n",
        "ts_sent =  ts_sent.reset_index()\n",
        "ts_sent"
      ],
      "id": "5q5A00L4GOXj",
      "execution_count": null,
      "outputs": [
        {
          "output_type": "execute_result",
          "data": {
            "text/html": [
              "<div>\n",
              "<style scoped>\n",
              "    .dataframe tbody tr th:only-of-type {\n",
              "        vertical-align: middle;\n",
              "    }\n",
              "\n",
              "    .dataframe tbody tr th {\n",
              "        vertical-align: top;\n",
              "    }\n",
              "\n",
              "    .dataframe thead th {\n",
              "        text-align: right;\n",
              "    }\n",
              "</style>\n",
              "<table border=\"1\" class=\"dataframe\">\n",
              "  <thead>\n",
              "    <tr style=\"text-align: right;\">\n",
              "      <th></th>\n",
              "      <th>yymm</th>\n",
              "      <th>pos</th>\n",
              "      <th>neg</th>\n",
              "      <th>neu</th>\n",
              "      <th>compound</th>\n",
              "    </tr>\n",
              "  </thead>\n",
              "  <tbody>\n",
              "    <tr>\n",
              "      <th>0</th>\n",
              "      <td>2018-01-01</td>\n",
              "      <td>10.584</td>\n",
              "      <td>7.567</td>\n",
              "      <td>131.854</td>\n",
              "      <td>12.8740</td>\n",
              "    </tr>\n",
              "    <tr>\n",
              "      <th>1</th>\n",
              "      <td>2018-02-01</td>\n",
              "      <td>53.648</td>\n",
              "      <td>22.588</td>\n",
              "      <td>468.762</td>\n",
              "      <td>92.5362</td>\n",
              "    </tr>\n",
              "    <tr>\n",
              "      <th>2</th>\n",
              "      <td>2018-03-01</td>\n",
              "      <td>32.075</td>\n",
              "      <td>23.194</td>\n",
              "      <td>323.733</td>\n",
              "      <td>17.6964</td>\n",
              "    </tr>\n",
              "    <tr>\n",
              "      <th>3</th>\n",
              "      <td>2018-04-01</td>\n",
              "      <td>27.209</td>\n",
              "      <td>15.416</td>\n",
              "      <td>269.374</td>\n",
              "      <td>33.7946</td>\n",
              "    </tr>\n",
              "    <tr>\n",
              "      <th>4</th>\n",
              "      <td>2018-05-01</td>\n",
              "      <td>94.950</td>\n",
              "      <td>58.930</td>\n",
              "      <td>993.108</td>\n",
              "      <td>89.3245</td>\n",
              "    </tr>\n",
              "    <tr>\n",
              "      <th>5</th>\n",
              "      <td>2018-06-01</td>\n",
              "      <td>18.535</td>\n",
              "      <td>8.929</td>\n",
              "      <td>152.533</td>\n",
              "      <td>32.0886</td>\n",
              "    </tr>\n",
              "    <tr>\n",
              "      <th>6</th>\n",
              "      <td>2018-07-01</td>\n",
              "      <td>21.879</td>\n",
              "      <td>13.237</td>\n",
              "      <td>196.887</td>\n",
              "      <td>26.4320</td>\n",
              "    </tr>\n",
              "    <tr>\n",
              "      <th>7</th>\n",
              "      <td>2018-08-01</td>\n",
              "      <td>1.898</td>\n",
              "      <td>0.845</td>\n",
              "      <td>16.257</td>\n",
              "      <td>3.2082</td>\n",
              "    </tr>\n",
              "    <tr>\n",
              "      <th>8</th>\n",
              "      <td>2018-09-01</td>\n",
              "      <td>38.631</td>\n",
              "      <td>17.698</td>\n",
              "      <td>393.670</td>\n",
              "      <td>62.7495</td>\n",
              "    </tr>\n",
              "    <tr>\n",
              "      <th>9</th>\n",
              "      <td>2018-10-01</td>\n",
              "      <td>41.769</td>\n",
              "      <td>24.196</td>\n",
              "      <td>360.034</td>\n",
              "      <td>57.5397</td>\n",
              "    </tr>\n",
              "    <tr>\n",
              "      <th>10</th>\n",
              "      <td>2018-11-01</td>\n",
              "      <td>72.031</td>\n",
              "      <td>44.589</td>\n",
              "      <td>673.385</td>\n",
              "      <td>86.4619</td>\n",
              "    </tr>\n",
              "    <tr>\n",
              "      <th>11</th>\n",
              "      <td>2018-12-01</td>\n",
              "      <td>15.618</td>\n",
              "      <td>9.702</td>\n",
              "      <td>140.680</td>\n",
              "      <td>17.2725</td>\n",
              "    </tr>\n",
              "    <tr>\n",
              "      <th>12</th>\n",
              "      <td>2019-01-01</td>\n",
              "      <td>33.725</td>\n",
              "      <td>12.875</td>\n",
              "      <td>262.402</td>\n",
              "      <td>67.0692</td>\n",
              "    </tr>\n",
              "    <tr>\n",
              "      <th>13</th>\n",
              "      <td>2019-02-01</td>\n",
              "      <td>43.492</td>\n",
              "      <td>17.720</td>\n",
              "      <td>420.789</td>\n",
              "      <td>74.8201</td>\n",
              "    </tr>\n",
              "    <tr>\n",
              "      <th>14</th>\n",
              "      <td>2019-03-01</td>\n",
              "      <td>27.783</td>\n",
              "      <td>21.430</td>\n",
              "      <td>378.784</td>\n",
              "      <td>19.4047</td>\n",
              "    </tr>\n",
              "    <tr>\n",
              "      <th>15</th>\n",
              "      <td>2019-04-01</td>\n",
              "      <td>10.067</td>\n",
              "      <td>3.494</td>\n",
              "      <td>72.435</td>\n",
              "      <td>21.8222</td>\n",
              "    </tr>\n",
              "    <tr>\n",
              "      <th>16</th>\n",
              "      <td>2019-05-01</td>\n",
              "      <td>37.564</td>\n",
              "      <td>17.263</td>\n",
              "      <td>340.171</td>\n",
              "      <td>59.6902</td>\n",
              "    </tr>\n",
              "    <tr>\n",
              "      <th>17</th>\n",
              "      <td>2019-06-01</td>\n",
              "      <td>31.941</td>\n",
              "      <td>14.958</td>\n",
              "      <td>275.099</td>\n",
              "      <td>54.9858</td>\n",
              "    </tr>\n",
              "    <tr>\n",
              "      <th>18</th>\n",
              "      <td>2019-07-01</td>\n",
              "      <td>16.824</td>\n",
              "      <td>10.517</td>\n",
              "      <td>216.660</td>\n",
              "      <td>22.3564</td>\n",
              "    </tr>\n",
              "    <tr>\n",
              "      <th>19</th>\n",
              "      <td>2019-08-01</td>\n",
              "      <td>1.515</td>\n",
              "      <td>0.036</td>\n",
              "      <td>26.449</td>\n",
              "      <td>5.1228</td>\n",
              "    </tr>\n",
              "    <tr>\n",
              "      <th>20</th>\n",
              "      <td>2019-09-01</td>\n",
              "      <td>26.672</td>\n",
              "      <td>16.420</td>\n",
              "      <td>326.907</td>\n",
              "      <td>37.7822</td>\n",
              "    </tr>\n",
              "    <tr>\n",
              "      <th>21</th>\n",
              "      <td>2019-10-01</td>\n",
              "      <td>47.967</td>\n",
              "      <td>28.953</td>\n",
              "      <td>481.078</td>\n",
              "      <td>59.0170</td>\n",
              "    </tr>\n",
              "    <tr>\n",
              "      <th>22</th>\n",
              "      <td>2019-11-01</td>\n",
              "      <td>58.000</td>\n",
              "      <td>31.225</td>\n",
              "      <td>617.778</td>\n",
              "      <td>81.1519</td>\n",
              "    </tr>\n",
              "    <tr>\n",
              "      <th>23</th>\n",
              "      <td>2019-12-01</td>\n",
              "      <td>27.316</td>\n",
              "      <td>14.544</td>\n",
              "      <td>298.143</td>\n",
              "      <td>37.7140</td>\n",
              "    </tr>\n",
              "    <tr>\n",
              "      <th>24</th>\n",
              "      <td>2020-01-01</td>\n",
              "      <td>13.504</td>\n",
              "      <td>5.008</td>\n",
              "      <td>132.487</td>\n",
              "      <td>29.4680</td>\n",
              "    </tr>\n",
              "    <tr>\n",
              "      <th>25</th>\n",
              "      <td>2020-02-01</td>\n",
              "      <td>59.610</td>\n",
              "      <td>36.294</td>\n",
              "      <td>560.092</td>\n",
              "      <td>70.2927</td>\n",
              "    </tr>\n",
              "    <tr>\n",
              "      <th>26</th>\n",
              "      <td>2020-03-01</td>\n",
              "      <td>0.872</td>\n",
              "      <td>0.615</td>\n",
              "      <td>6.513</td>\n",
              "      <td>0.6120</td>\n",
              "    </tr>\n",
              "    <tr>\n",
              "      <th>27</th>\n",
              "      <td>2020-04-01</td>\n",
              "      <td>4.730</td>\n",
              "      <td>2.608</td>\n",
              "      <td>37.661</td>\n",
              "      <td>4.3881</td>\n",
              "    </tr>\n",
              "    <tr>\n",
              "      <th>28</th>\n",
              "      <td>2020-05-01</td>\n",
              "      <td>13.862</td>\n",
              "      <td>8.024</td>\n",
              "      <td>147.107</td>\n",
              "      <td>17.9121</td>\n",
              "    </tr>\n",
              "    <tr>\n",
              "      <th>29</th>\n",
              "      <td>2020-06-01</td>\n",
              "      <td>21.188</td>\n",
              "      <td>20.848</td>\n",
              "      <td>224.970</td>\n",
              "      <td>-2.2512</td>\n",
              "    </tr>\n",
              "    <tr>\n",
              "      <th>30</th>\n",
              "      <td>2020-07-01</td>\n",
              "      <td>15.841</td>\n",
              "      <td>13.304</td>\n",
              "      <td>183.852</td>\n",
              "      <td>9.8274</td>\n",
              "    </tr>\n",
              "    <tr>\n",
              "      <th>31</th>\n",
              "      <td>2020-08-01</td>\n",
              "      <td>6.600</td>\n",
              "      <td>5.815</td>\n",
              "      <td>62.587</td>\n",
              "      <td>3.7974</td>\n",
              "    </tr>\n",
              "    <tr>\n",
              "      <th>32</th>\n",
              "      <td>2020-09-01</td>\n",
              "      <td>50.047</td>\n",
              "      <td>28.908</td>\n",
              "      <td>475.038</td>\n",
              "      <td>48.7341</td>\n",
              "    </tr>\n",
              "    <tr>\n",
              "      <th>33</th>\n",
              "      <td>2020-10-01</td>\n",
              "      <td>25.639</td>\n",
              "      <td>12.757</td>\n",
              "      <td>232.602</td>\n",
              "      <td>39.4485</td>\n",
              "    </tr>\n",
              "    <tr>\n",
              "      <th>34</th>\n",
              "      <td>2020-11-01</td>\n",
              "      <td>61.269</td>\n",
              "      <td>44.624</td>\n",
              "      <td>664.098</td>\n",
              "      <td>37.7820</td>\n",
              "    </tr>\n",
              "    <tr>\n",
              "      <th>35</th>\n",
              "      <td>2020-12-01</td>\n",
              "      <td>19.108</td>\n",
              "      <td>10.088</td>\n",
              "      <td>144.805</td>\n",
              "      <td>19.3950</td>\n",
              "    </tr>\n",
              "    <tr>\n",
              "      <th>36</th>\n",
              "      <td>2021-01-01</td>\n",
              "      <td>18.867</td>\n",
              "      <td>12.114</td>\n",
              "      <td>165.024</td>\n",
              "      <td>22.2692</td>\n",
              "    </tr>\n",
              "    <tr>\n",
              "      <th>37</th>\n",
              "      <td>2021-02-01</td>\n",
              "      <td>20.493</td>\n",
              "      <td>11.763</td>\n",
              "      <td>213.751</td>\n",
              "      <td>28.9156</td>\n",
              "    </tr>\n",
              "    <tr>\n",
              "      <th>38</th>\n",
              "      <td>2021-03-01</td>\n",
              "      <td>22.267</td>\n",
              "      <td>13.116</td>\n",
              "      <td>207.620</td>\n",
              "      <td>24.8211</td>\n",
              "    </tr>\n",
              "    <tr>\n",
              "      <th>39</th>\n",
              "      <td>2021-04-01</td>\n",
              "      <td>23.164</td>\n",
              "      <td>12.494</td>\n",
              "      <td>229.341</td>\n",
              "      <td>36.7730</td>\n",
              "    </tr>\n",
              "    <tr>\n",
              "      <th>40</th>\n",
              "      <td>2021-05-01</td>\n",
              "      <td>10.077</td>\n",
              "      <td>6.354</td>\n",
              "      <td>123.574</td>\n",
              "      <td>13.3770</td>\n",
              "    </tr>\n",
              "  </tbody>\n",
              "</table>\n",
              "</div>"
            ],
            "text/plain": [
              "         yymm     pos     neg      neu  compound\n",
              "0  2018-01-01  10.584   7.567  131.854   12.8740\n",
              "1  2018-02-01  53.648  22.588  468.762   92.5362\n",
              "2  2018-03-01  32.075  23.194  323.733   17.6964\n",
              "3  2018-04-01  27.209  15.416  269.374   33.7946\n",
              "4  2018-05-01  94.950  58.930  993.108   89.3245\n",
              "5  2018-06-01  18.535   8.929  152.533   32.0886\n",
              "6  2018-07-01  21.879  13.237  196.887   26.4320\n",
              "7  2018-08-01   1.898   0.845   16.257    3.2082\n",
              "8  2018-09-01  38.631  17.698  393.670   62.7495\n",
              "9  2018-10-01  41.769  24.196  360.034   57.5397\n",
              "10 2018-11-01  72.031  44.589  673.385   86.4619\n",
              "11 2018-12-01  15.618   9.702  140.680   17.2725\n",
              "12 2019-01-01  33.725  12.875  262.402   67.0692\n",
              "13 2019-02-01  43.492  17.720  420.789   74.8201\n",
              "14 2019-03-01  27.783  21.430  378.784   19.4047\n",
              "15 2019-04-01  10.067   3.494   72.435   21.8222\n",
              "16 2019-05-01  37.564  17.263  340.171   59.6902\n",
              "17 2019-06-01  31.941  14.958  275.099   54.9858\n",
              "18 2019-07-01  16.824  10.517  216.660   22.3564\n",
              "19 2019-08-01   1.515   0.036   26.449    5.1228\n",
              "20 2019-09-01  26.672  16.420  326.907   37.7822\n",
              "21 2019-10-01  47.967  28.953  481.078   59.0170\n",
              "22 2019-11-01  58.000  31.225  617.778   81.1519\n",
              "23 2019-12-01  27.316  14.544  298.143   37.7140\n",
              "24 2020-01-01  13.504   5.008  132.487   29.4680\n",
              "25 2020-02-01  59.610  36.294  560.092   70.2927\n",
              "26 2020-03-01   0.872   0.615    6.513    0.6120\n",
              "27 2020-04-01   4.730   2.608   37.661    4.3881\n",
              "28 2020-05-01  13.862   8.024  147.107   17.9121\n",
              "29 2020-06-01  21.188  20.848  224.970   -2.2512\n",
              "30 2020-07-01  15.841  13.304  183.852    9.8274\n",
              "31 2020-08-01   6.600   5.815   62.587    3.7974\n",
              "32 2020-09-01  50.047  28.908  475.038   48.7341\n",
              "33 2020-10-01  25.639  12.757  232.602   39.4485\n",
              "34 2020-11-01  61.269  44.624  664.098   37.7820\n",
              "35 2020-12-01  19.108  10.088  144.805   19.3950\n",
              "36 2021-01-01  18.867  12.114  165.024   22.2692\n",
              "37 2021-02-01  20.493  11.763  213.751   28.9156\n",
              "38 2021-03-01  22.267  13.116  207.620   24.8211\n",
              "39 2021-04-01  23.164  12.494  229.341   36.7730\n",
              "40 2021-05-01  10.077   6.354  123.574   13.3770"
            ]
          },
          "metadata": {
            "tags": []
          },
          "execution_count": 31
        }
      ]
    },
    {
      "cell_type": "code",
      "metadata": {
        "colab": {
          "resources": {
            "http://localhost:8080/nbextensions/google.colab/files.js": {
              "data": "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",
              "ok": true,
              "headers": [
                [
                  "content-type",
                  "application/javascript"
                ]
              ],
              "status": 200,
              "status_text": ""
            }
          },
          "base_uri": "https://localhost:8080/",
          "height": 65
        },
        "id": "Q3CzYzmM9tdd",
        "outputId": "873eabcc-d08d-4f8a-b66b-99b4bb8129f3"
      },
      "source": [
        "from google.colab import files\n",
        "uploaded = files.upload()"
      ],
      "id": "Q3CzYzmM9tdd",
      "execution_count": null,
      "outputs": [
        {
          "output_type": "display_data",
          "data": {
            "text/html": [
              "\n",
              "     <input type=\"file\" id=\"files-543e010a-4cc4-45ff-9d43-c9ff56802d55\" name=\"files[]\" multiple disabled\n",
              "        style=\"border:none\" />\n",
              "     <output id=\"result-543e010a-4cc4-45ff-9d43-c9ff56802d55\">\n",
              "      Upload widget is only available when the cell has been executed in the\n",
              "      current browser session. Please rerun this cell to enable.\n",
              "      </output>\n",
              "      <script src=\"/nbextensions/google.colab/files.js\"></script> "
            ],
            "text/plain": [
              "<IPython.core.display.HTML object>"
            ]
          },
          "metadata": {
            "tags": []
          }
        },
        {
          "output_type": "stream",
          "text": [
            "Saving yield.csv to yield.csv\n"
          ],
          "name": "stdout"
        }
      ]
    },
    {
      "cell_type": "code",
      "metadata": {
        "colab": {
          "base_uri": "https://localhost:8080/",
          "height": 109
        },
        "id": "iC_L0pQO-TdH",
        "outputId": "527bb052-6406-4537-ce16-f1c9bba3f2ff"
      },
      "source": [
        "yie = pd.read_csv('yield.csv', sep = ';')\n",
        "yie.head(2)"
      ],
      "id": "iC_L0pQO-TdH",
      "execution_count": null,
      "outputs": [
        {
          "output_type": "execute_result",
          "data": {
            "text/html": [
              "<div>\n",
              "<style scoped>\n",
              "    .dataframe tbody tr th:only-of-type {\n",
              "        vertical-align: middle;\n",
              "    }\n",
              "\n",
              "    .dataframe tbody tr th {\n",
              "        vertical-align: top;\n",
              "    }\n",
              "\n",
              "    .dataframe thead th {\n",
              "        text-align: right;\n",
              "    }\n",
              "</style>\n",
              "<table border=\"1\" class=\"dataframe\">\n",
              "  <thead>\n",
              "    <tr style=\"text-align: right;\">\n",
              "      <th></th>\n",
              "      <th>Date</th>\n",
              "      <th>3m</th>\n",
              "      <th>1y</th>\n",
              "      <th>2y</th>\n",
              "      <th>5y</th>\n",
              "      <th>10y</th>\n",
              "    </tr>\n",
              "  </thead>\n",
              "  <tbody>\n",
              "    <tr>\n",
              "      <th>0</th>\n",
              "      <td>2021-05</td>\n",
              "      <td>-0.631647</td>\n",
              "      <td>-0.679869</td>\n",
              "      <td>-0.674774</td>\n",
              "      <td>-0.542524</td>\n",
              "      <td>-0.146415</td>\n",
              "    </tr>\n",
              "    <tr>\n",
              "      <th>1</th>\n",
              "      <td>2021-04</td>\n",
              "      <td>-0.627818</td>\n",
              "      <td>-0.683253</td>\n",
              "      <td>-0.699461</td>\n",
              "      <td>-0.567790</td>\n",
              "      <td>-0.179994</td>\n",
              "    </tr>\n",
              "  </tbody>\n",
              "</table>\n",
              "</div>"
            ],
            "text/plain": [
              "      Date        3m        1y        2y        5y       10y\n",
              "0  2021-05 -0.631647 -0.679869 -0.674774 -0.542524 -0.146415\n",
              "1  2021-04 -0.627818 -0.683253 -0.699461 -0.567790 -0.179994"
            ]
          },
          "metadata": {
            "tags": []
          },
          "execution_count": 33
        }
      ]
    },
    {
      "cell_type": "code",
      "metadata": {
        "id": "HTjlfYrN-6lX"
      },
      "source": [
        "yie = yie[['3m','1y','2y','5y','10y']]"
      ],
      "id": "HTjlfYrN-6lX",
      "execution_count": null,
      "outputs": []
    },
    {
      "cell_type": "code",
      "metadata": {
        "colab": {
          "base_uri": "https://localhost:8080/",
          "height": 109
        },
        "id": "4SDtvFH5K3qi",
        "outputId": "6dcde18d-9859-4b9a-aafd-a0e81a2df179"
      },
      "source": [
        "yie0 = yie.sort_index(axis=0, ascending=False)\n",
        "yie0 = yie0.reset_index(drop=True)\n",
        "yie0.head(2)"
      ],
      "id": "4SDtvFH5K3qi",
      "execution_count": null,
      "outputs": [
        {
          "output_type": "execute_result",
          "data": {
            "text/html": [
              "<div>\n",
              "<style scoped>\n",
              "    .dataframe tbody tr th:only-of-type {\n",
              "        vertical-align: middle;\n",
              "    }\n",
              "\n",
              "    .dataframe tbody tr th {\n",
              "        vertical-align: top;\n",
              "    }\n",
              "\n",
              "    .dataframe thead th {\n",
              "        text-align: right;\n",
              "    }\n",
              "</style>\n",
              "<table border=\"1\" class=\"dataframe\">\n",
              "  <thead>\n",
              "    <tr style=\"text-align: right;\">\n",
              "      <th></th>\n",
              "      <th>3m</th>\n",
              "      <th>1y</th>\n",
              "      <th>2y</th>\n",
              "      <th>5y</th>\n",
              "      <th>10y</th>\n",
              "    </tr>\n",
              "  </thead>\n",
              "  <tbody>\n",
              "    <tr>\n",
              "      <th>0</th>\n",
              "      <td>-0.625430</td>\n",
              "      <td>-0.639447</td>\n",
              "      <td>-0.205301</td>\n",
              "      <td>0.046598</td>\n",
              "      <td>0.709876</td>\n",
              "    </tr>\n",
              "    <tr>\n",
              "      <th>1</th>\n",
              "      <td>-0.655109</td>\n",
              "      <td>-0.681066</td>\n",
              "      <td>-0.257543</td>\n",
              "      <td>0.011679</td>\n",
              "      <td>0.709144</td>\n",
              "    </tr>\n",
              "  </tbody>\n",
              "</table>\n",
              "</div>"
            ],
            "text/plain": [
              "         3m        1y        2y        5y       10y\n",
              "0 -0.625430 -0.639447 -0.205301  0.046598  0.709876\n",
              "1 -0.655109 -0.681066 -0.257543  0.011679  0.709144"
            ]
          },
          "metadata": {
            "tags": []
          },
          "execution_count": 35
        }
      ]
    },
    {
      "cell_type": "code",
      "metadata": {
        "colab": {
          "base_uri": "https://localhost:8080/"
        },
        "id": "-0BLwasMAFOd",
        "outputId": "509ac950-a29c-456f-b76f-dc306b6c3a13"
      },
      "source": [
        "type(yie.iloc[0,1])"
      ],
      "id": "-0BLwasMAFOd",
      "execution_count": null,
      "outputs": [
        {
          "output_type": "execute_result",
          "data": {
            "text/plain": [
              "numpy.float64"
            ]
          },
          "metadata": {
            "tags": []
          },
          "execution_count": 114
        }
      ]
    },
    {
      "cell_type": "markdown",
      "metadata": {
        "id": "hbGQS4Jl_HAI"
      },
      "source": [
        "## OLS"
      ],
      "id": "hbGQS4Jl_HAI"
    },
    {
      "cell_type": "code",
      "metadata": {
        "colab": {
          "base_uri": "https://localhost:8080/",
          "height": 402
        },
        "id": "YmK-Chq93Ni0",
        "outputId": "caeab9c6-48d9-4cc1-d491-c3535de18171"
      },
      "source": [
        "fig, ax = plt.subplots(figsize=(10, 6))\n",
        "axb = ax.twinx()\n",
        "# Same as above\n",
        "ax.set_xlabel('Date')\n",
        "ax.set_ylabel('Bonds Rate')\n",
        "ax.set_title('Yield Curves Monthly Chart')\n",
        "ax.grid(True)\n",
        "\n",
        "ax.plot(ts_sent['yymm'], yie0['3m'], color='red', label='3m maturity',linewidth = 2.0)\n",
        "ax.plot(ts_sent['yymm'], yie0['1y'] , color='lightSalmon',linestyle = '-.', label='1y maturity',linewidth = 2.0)\n",
        "ax.plot(ts_sent['yymm'], yie0['2y'] , color='DarkSalmon',linestyle = '--', label='2y maturity',linewidth = 2.0)\n",
        "ax.plot(ts_sent['yymm'], yie0['5y'] , color='Crimson',linestyle = ':', label='5y maturity',linewidth = 2.0)\n",
        "ax.plot(ts_sent['yymm'], yie0['10y'] , color='darkred',linestyle = '-', label='10y maturity',linewidth = 2.0)\n",
        "\n",
        "#legend\n",
        "lines, labels = ax.get_legend_handles_labels()\n",
        "axb.legend(lines, labels, loc='upper right');"
      ],
      "id": "YmK-Chq93Ni0",
      "execution_count": null,
      "outputs": [
        {
          "output_type": "display_data",
          "data": {
            "image/png": "[encoded data removed]",
            "text/plain": [
              "<Figure size 720x432 with 2 Axes>"
            ]
          },
          "metadata": {
            "tags": [],
            "needs_background": "light"
          }
        }
      ]
    },
    {
      "cell_type": "code",
      "metadata": {
        "id": "_cINrPIG_AzE",
        "colab": {
          "base_uri": "https://localhost:8080/"
        },
        "outputId": "2419e85d-9bfc-4ccf-e6df-9ed8ee747520"
      },
      "source": [
        "import statsmodels.api as sm"
      ],
      "id": "_cINrPIG_AzE",
      "execution_count": null,
      "outputs": [
        {
          "output_type": "stream",
          "text": [
            "/usr/local/lib/python3.7/dist-packages/statsmodels/tools/_testing.py:19: FutureWarning: pandas.util.testing is deprecated. Use the functions in the public API at pandas.testing instead.\n",
            "  import pandas.util.testing as tm\n"
          ],
          "name": "stderr"
        }
      ]
    },
    {
      "cell_type": "code",
      "metadata": {
        "colab": {
          "base_uri": "https://localhost:8080/",
          "height": 472
        },
        "id": "U_Ol0miP__5m",
        "outputId": "b0e49b60-8270-40e9-a3bf-6e7f53618efd"
      },
      "source": [
        "x = ts_sent[['pos','neg','compound']]\n",
        "y = yie0['10y']\n",
        "x = sm.add_constant(x)\n",
        "model = sm.OLS(y,x).fit()\n",
        "predictions = model.predict(x)\n",
        "model.summary()\n"
      ],
      "id": "U_Ol0miP__5m",
      "execution_count": null,
      "outputs": [
        {
          "output_type": "execute_result",
          "data": {
            "text/html": [
              "<table class=\"simpletable\">\n",
              "<caption>OLS Regression Results</caption>\n",
              "<tr>\n",
              "  <th>Dep. Variable:</th>           <td>10y</td>       <th>  R-squared:         </th> <td>   0.106</td>\n",
              "</tr>\n",
              "<tr>\n",
              "  <th>Model:</th>                   <td>OLS</td>       <th>  Adj. R-squared:    </th> <td>   0.033</td>\n",
              "</tr>\n",
              "<tr>\n",
              "  <th>Method:</th>             <td>Least Squares</td>  <th>  F-statistic:       </th> <td>   1.460</td>\n",
              "</tr>\n",
              "<tr>\n",
              "  <th>Date:</th>             <td>Sun, 04 Jul 2021</td> <th>  Prob (F-statistic):</th>  <td> 0.241</td> \n",
              "</tr>\n",
              "<tr>\n",
              "  <th>Time:</th>                 <td>11:39:37</td>     <th>  Log-Likelihood:    </th> <td> -20.427</td>\n",
              "</tr>\n",
              "<tr>\n",
              "  <th>No. Observations:</th>      <td>    41</td>      <th>  AIC:               </th> <td>   48.85</td>\n",
              "</tr>\n",
              "<tr>\n",
              "  <th>Df Residuals:</th>          <td>    37</td>      <th>  BIC:               </th> <td>   55.71</td>\n",
              "</tr>\n",
              "<tr>\n",
              "  <th>Df Model:</th>              <td>     3</td>      <th>                     </th>     <td> </td>   \n",
              "</tr>\n",
              "<tr>\n",
              "  <th>Covariance Type:</th>      <td>nonrobust</td>    <th>                     </th>     <td> </td>   \n",
              "</tr>\n",
              "</table>\n",
              "<table class=\"simpletable\">\n",
              "<tr>\n",
              "      <td></td>        <th>coef</th>     <th>std err</th>      <th>t</th>      <th>P>|t|</th>  <th>[0.025</th>    <th>0.975]</th>  \n",
              "</tr>\n",
              "<tr>\n",
              "  <th>const</th>    <td>   -0.2265</td> <td>    0.121</td> <td>   -1.871</td> <td> 0.069</td> <td>   -0.472</td> <td>    0.019</td>\n",
              "</tr>\n",
              "<tr>\n",
              "  <th>pos</th>      <td>    0.0134</td> <td>    0.048</td> <td>    0.279</td> <td> 0.782</td> <td>   -0.084</td> <td>    0.111</td>\n",
              "</tr>\n",
              "<tr>\n",
              "  <th>neg</th>      <td>   -0.0206</td> <td>    0.054</td> <td>   -0.378</td> <td> 0.708</td> <td>   -0.131</td> <td>    0.090</td>\n",
              "</tr>\n",
              "<tr>\n",
              "  <th>compound</th> <td>    0.0026</td> <td>    0.015</td> <td>    0.177</td> <td> 0.861</td> <td>   -0.028</td> <td>    0.033</td>\n",
              "</tr>\n",
              "</table>\n",
              "<table class=\"simpletable\">\n",
              "<tr>\n",
              "  <th>Omnibus:</th>       <td> 4.097</td> <th>  Durbin-Watson:     </th> <td>   0.279</td>\n",
              "</tr>\n",
              "<tr>\n",
              "  <th>Prob(Omnibus):</th> <td> 0.129</td> <th>  Jarque-Bera (JB):  </th> <td>   3.244</td>\n",
              "</tr>\n",
              "<tr>\n",
              "  <th>Skew:</th>          <td> 0.566</td> <th>  Prob(JB):          </th> <td>   0.197</td>\n",
              "</tr>\n",
              "<tr>\n",
              "  <th>Kurtosis:</th>      <td> 2.213</td> <th>  Cond. No.          </th> <td>    113.</td>\n",
              "</tr>\n",
              "</table><br/><br/>Warnings:<br/>[1] Standard Errors assume that the covariance matrix of the errors is correctly specified."
            ],
            "text/plain": [
              "<class 'statsmodels.iolib.summary.Summary'>\n",
              "\"\"\"\n",
              "                            OLS Regression Results                            \n",
              "==============================================================================\n",
              "Dep. Variable:                    10y   R-squared:                       0.106\n",
              "Model:                            OLS   Adj. R-squared:                  0.033\n",
              "Method:                 Least Squares   F-statistic:                     1.460\n",
              "Date:                Sun, 04 Jul 2021   Prob (F-statistic):              0.241\n",
              "Time:                        11:39:37   Log-Likelihood:                -20.427\n",
              "No. Observations:                  41   AIC:                             48.85\n",
              "Df Residuals:                      37   BIC:                             55.71\n",
              "Df Model:                           3                                         \n",
              "Covariance Type:            nonrobust                                         \n",
              "==============================================================================\n",
              "                 coef    std err          t      P>|t|      [0.025      0.975]\n",
              "------------------------------------------------------------------------------\n",
              "const         -0.2265      0.121     -1.871      0.069      -0.472       0.019\n",
              "pos            0.0134      0.048      0.279      0.782      -0.084       0.111\n",
              "neg           -0.0206      0.054     -0.378      0.708      -0.131       0.090\n",
              "compound       0.0026      0.015      0.177      0.861      -0.028       0.033\n",
              "==============================================================================\n",
              "Omnibus:                        4.097   Durbin-Watson:                   0.279\n",
              "Prob(Omnibus):                  0.129   Jarque-Bera (JB):                3.244\n",
              "Skew:                           0.566   Prob(JB):                        0.197\n",
              "Kurtosis:                       2.213   Cond. No.                         113.\n",
              "==============================================================================\n",
              "\n",
              "Warnings:\n",
              "[1] Standard Errors assume that the covariance matrix of the errors is correctly specified.\n",
              "\"\"\""
            ]
          },
          "metadata": {
            "tags": []
          },
          "execution_count": 50
        }
      ]
    },
    {
      "cell_type": "code",
      "metadata": {
        "colab": {
          "base_uri": "https://localhost:8080/",
          "height": 452
        },
        "id": "piiUryh-NU3U",
        "outputId": "f7c98e8f-37c9-4082-b4ce-d5c65e48c60a"
      },
      "source": [
        "x = ts_sent[['pos','neg','neu']]\n",
        "y = yie0['1y']\n",
        "#x = sm.add_constant(x)\n",
        "model = sm.OLS(y,x).fit()\n",
        "predictions = model.predict(x)\n",
        "model.summary()"
      ],
      "id": "piiUryh-NU3U",
      "execution_count": null,
      "outputs": [
        {
          "output_type": "execute_result",
          "data": {
            "text/html": [
              "<table class=\"simpletable\">\n",
              "<caption>OLS Regression Results</caption>\n",
              "<tr>\n",
              "  <th>Dep. Variable:</th>           <td>1y</td>        <th>  R-squared (uncentered):</th>      <td>   0.663</td>\n",
              "</tr>\n",
              "<tr>\n",
              "  <th>Model:</th>                   <td>OLS</td>       <th>  Adj. R-squared (uncentered):</th> <td>   0.637</td>\n",
              "</tr>\n",
              "<tr>\n",
              "  <th>Method:</th>             <td>Least Squares</td>  <th>  F-statistic:       </th>          <td>   24.97</td>\n",
              "</tr>\n",
              "<tr>\n",
              "  <th>Date:</th>             <td>Wed, 23 Jun 2021</td> <th>  Prob (F-statistic):</th>          <td>4.27e-09</td>\n",
              "</tr>\n",
              "<tr>\n",
              "  <th>Time:</th>                 <td>06:58:33</td>     <th>  Log-Likelihood:    </th>          <td> -20.078</td>\n",
              "</tr>\n",
              "<tr>\n",
              "  <th>No. Observations:</th>      <td>    41</td>      <th>  AIC:               </th>          <td>   46.16</td>\n",
              "</tr>\n",
              "<tr>\n",
              "  <th>Df Residuals:</th>          <td>    38</td>      <th>  BIC:               </th>          <td>   51.30</td>\n",
              "</tr>\n",
              "<tr>\n",
              "  <th>Df Model:</th>              <td>     3</td>      <th>                     </th>              <td> </td>   \n",
              "</tr>\n",
              "<tr>\n",
              "  <th>Covariance Type:</th>      <td>nonrobust</td>    <th>                     </th>              <td> </td>   \n",
              "</tr>\n",
              "</table>\n",
              "<table class=\"simpletable\">\n",
              "<tr>\n",
              "   <td></td>      <th>coef</th>     <th>std err</th>      <th>t</th>      <th>P>|t|</th>  <th>[0.025</th>    <th>0.975]</th>  \n",
              "</tr>\n",
              "<tr>\n",
              "  <th>pos</th> <td>   -0.0174</td> <td>    0.018</td> <td>   -0.968</td> <td> 0.339</td> <td>   -0.054</td> <td>    0.019</td>\n",
              "</tr>\n",
              "<tr>\n",
              "  <th>neg</th> <td>    0.0028</td> <td>    0.022</td> <td>    0.130</td> <td> 0.897</td> <td>   -0.041</td> <td>    0.047</td>\n",
              "</tr>\n",
              "<tr>\n",
              "  <th>neu</th> <td>-1.257e-06</td> <td>    0.002</td> <td>   -0.001</td> <td> 1.000</td> <td>   -0.004</td> <td>    0.004</td>\n",
              "</tr>\n",
              "</table>\n",
              "<table class=\"simpletable\">\n",
              "<tr>\n",
              "  <th>Omnibus:</th>       <td> 6.543</td> <th>  Durbin-Watson:     </th> <td>   1.400</td>\n",
              "</tr>\n",
              "<tr>\n",
              "  <th>Prob(Omnibus):</th> <td> 0.038</td> <th>  Jarque-Bera (JB):  </th> <td>   5.283</td>\n",
              "</tr>\n",
              "<tr>\n",
              "  <th>Skew:</th>          <td> 0.822</td> <th>  Prob(JB):          </th> <td>  0.0712</td>\n",
              "</tr>\n",
              "<tr>\n",
              "  <th>Kurtosis:</th>      <td> 3.625</td> <th>  Cond. No.          </th> <td>    119.</td>\n",
              "</tr>\n",
              "</table><br/><br/>Warnings:<br/>[1] Standard Errors assume that the covariance matrix of the errors is correctly specified."
            ],
            "text/plain": [
              "<class 'statsmodels.iolib.summary.Summary'>\n",
              "\"\"\"\n",
              "                                 OLS Regression Results                                \n",
              "=======================================================================================\n",
              "Dep. Variable:                     1y   R-squared (uncentered):                   0.663\n",
              "Model:                            OLS   Adj. R-squared (uncentered):              0.637\n",
              "Method:                 Least Squares   F-statistic:                              24.97\n",
              "Date:                Wed, 23 Jun 2021   Prob (F-statistic):                    4.27e-09\n",
              "Time:                        06:58:33   Log-Likelihood:                         -20.078\n",
              "No. Observations:                  41   AIC:                                      46.16\n",
              "Df Residuals:                      38   BIC:                                      51.30\n",
              "Df Model:                           3                                                  \n",
              "Covariance Type:            nonrobust                                                  \n",
              "==============================================================================\n",
              "                 coef    std err          t      P>|t|      [0.025      0.975]\n",
              "------------------------------------------------------------------------------\n",
              "pos           -0.0174      0.018     -0.968      0.339      -0.054       0.019\n",
              "neg            0.0028      0.022      0.130      0.897      -0.041       0.047\n",
              "neu        -1.257e-06      0.002     -0.001      1.000      -0.004       0.004\n",
              "==============================================================================\n",
              "Omnibus:                        6.543   Durbin-Watson:                   1.400\n",
              "Prob(Omnibus):                  0.038   Jarque-Bera (JB):                5.283\n",
              "Skew:                           0.822   Prob(JB):                       0.0712\n",
              "Kurtosis:                       3.625   Cond. No.                         119.\n",
              "==============================================================================\n",
              "\n",
              "Warnings:\n",
              "[1] Standard Errors assume that the covariance matrix of the errors is correctly specified.\n",
              "\"\"\""
            ]
          },
          "metadata": {
            "tags": []
          },
          "execution_count": 117
        }
      ]
    },
    {
      "cell_type": "code",
      "metadata": {
        "colab": {
          "base_uri": "https://localhost:8080/",
          "height": 452
        },
        "id": "mjUdZrmNOuEe",
        "outputId": "4310eec7-baff-4b5b-d3ed-e3b444116ba0"
      },
      "source": [
        "x = ts_sent[['pos','neg','compound']]\n",
        "y = yie0['2y']\n",
        "#x = sm.add_constant(x)\n",
        "model = sm.OLS(y,x).fit()\n",
        "predictions = model.predict(x)\n",
        "model.summary()"
      ],
      "id": "mjUdZrmNOuEe",
      "execution_count": null,
      "outputs": [
        {
          "output_type": "execute_result",
          "data": {
            "text/html": [
              "<table class=\"simpletable\">\n",
              "<caption>OLS Regression Results</caption>\n",
              "<tr>\n",
              "  <th>Dep. Variable:</th>           <td>2y</td>        <th>  R-squared (uncentered):</th>      <td>   0.601</td>\n",
              "</tr>\n",
              "<tr>\n",
              "  <th>Model:</th>                   <td>OLS</td>       <th>  Adj. R-squared (uncentered):</th> <td>   0.569</td>\n",
              "</tr>\n",
              "<tr>\n",
              "  <th>Method:</th>             <td>Least Squares</td>  <th>  F-statistic:       </th>          <td>   19.04</td>\n",
              "</tr>\n",
              "<tr>\n",
              "  <th>Date:</th>             <td>Wed, 23 Jun 2021</td> <th>  Prob (F-statistic):</th>          <td>1.06e-07</td>\n",
              "</tr>\n",
              "<tr>\n",
              "  <th>Time:</th>                 <td>06:58:33</td>     <th>  Log-Likelihood:    </th>          <td> -22.069</td>\n",
              "</tr>\n",
              "<tr>\n",
              "  <th>No. Observations:</th>      <td>    41</td>      <th>  AIC:               </th>          <td>   50.14</td>\n",
              "</tr>\n",
              "<tr>\n",
              "  <th>Df Residuals:</th>          <td>    38</td>      <th>  BIC:               </th>          <td>   55.28</td>\n",
              "</tr>\n",
              "<tr>\n",
              "  <th>Df Model:</th>              <td>     3</td>      <th>                     </th>              <td> </td>   \n",
              "</tr>\n",
              "<tr>\n",
              "  <th>Covariance Type:</th>      <td>nonrobust</td>    <th>                     </th>              <td> </td>   \n",
              "</tr>\n",
              "</table>\n",
              "<table class=\"simpletable\">\n",
              "<tr>\n",
              "      <td></td>        <th>coef</th>     <th>std err</th>      <th>t</th>      <th>P>|t|</th>  <th>[0.025</th>    <th>0.975]</th>  \n",
              "</tr>\n",
              "<tr>\n",
              "  <th>pos</th>      <td>    0.0825</td> <td>    0.048</td> <td>    1.738</td> <td> 0.090</td> <td>   -0.014</td> <td>    0.179</td>\n",
              "</tr>\n",
              "<tr>\n",
              "  <th>neg</th>      <td>   -0.1065</td> <td>    0.053</td> <td>   -2.007</td> <td> 0.052</td> <td>   -0.214</td> <td>    0.001</td>\n",
              "</tr>\n",
              "<tr>\n",
              "  <th>compound</th> <td>   -0.0285</td> <td>    0.014</td> <td>   -1.989</td> <td> 0.054</td> <td>   -0.058</td> <td>    0.001</td>\n",
              "</tr>\n",
              "</table>\n",
              "<table class=\"simpletable\">\n",
              "<tr>\n",
              "  <th>Omnibus:</th>       <td> 2.187</td> <th>  Durbin-Watson:     </th> <td>   0.870</td>\n",
              "</tr>\n",
              "<tr>\n",
              "  <th>Prob(Omnibus):</th> <td> 0.335</td> <th>  Jarque-Bera (JB):  </th> <td>   1.329</td>\n",
              "</tr>\n",
              "<tr>\n",
              "  <th>Skew:</th>          <td> 0.416</td> <th>  Prob(JB):          </th> <td>   0.515</td>\n",
              "</tr>\n",
              "<tr>\n",
              "  <th>Kurtosis:</th>      <td> 3.291</td> <th>  Cond. No.          </th> <td>    64.1</td>\n",
              "</tr>\n",
              "</table><br/><br/>Warnings:<br/>[1] Standard Errors assume that the covariance matrix of the errors is correctly specified."
            ],
            "text/plain": [
              "<class 'statsmodels.iolib.summary.Summary'>\n",
              "\"\"\"\n",
              "                                 OLS Regression Results                                \n",
              "=======================================================================================\n",
              "Dep. Variable:                     2y   R-squared (uncentered):                   0.601\n",
              "Model:                            OLS   Adj. R-squared (uncentered):              0.569\n",
              "Method:                 Least Squares   F-statistic:                              19.04\n",
              "Date:                Wed, 23 Jun 2021   Prob (F-statistic):                    1.06e-07\n",
              "Time:                        06:58:33   Log-Likelihood:                         -22.069\n",
              "No. Observations:                  41   AIC:                                      50.14\n",
              "Df Residuals:                      38   BIC:                                      55.28\n",
              "Df Model:                           3                                                  \n",
              "Covariance Type:            nonrobust                                                  \n",
              "==============================================================================\n",
              "                 coef    std err          t      P>|t|      [0.025      0.975]\n",
              "------------------------------------------------------------------------------\n",
              "pos            0.0825      0.048      1.738      0.090      -0.014       0.179\n",
              "neg           -0.1065      0.053     -2.007      0.052      -0.214       0.001\n",
              "compound      -0.0285      0.014     -1.989      0.054      -0.058       0.001\n",
              "==============================================================================\n",
              "Omnibus:                        2.187   Durbin-Watson:                   0.870\n",
              "Prob(Omnibus):                  0.335   Jarque-Bera (JB):                1.329\n",
              "Skew:                           0.416   Prob(JB):                        0.515\n",
              "Kurtosis:                       3.291   Cond. No.                         64.1\n",
              "==============================================================================\n",
              "\n",
              "Warnings:\n",
              "[1] Standard Errors assume that the covariance matrix of the errors is correctly specified.\n",
              "\"\"\""
            ]
          },
          "metadata": {
            "tags": []
          },
          "execution_count": 118
        }
      ]
    },
    {
      "cell_type": "code",
      "metadata": {
        "colab": {
          "base_uri": "https://localhost:8080/",
          "height": 432
        },
        "id": "JZbkuh1yOwZI",
        "outputId": "194d6d5b-f07f-45f4-c6aa-ef061b1a5df6"
      },
      "source": [
        "x = ts_sent[['compound']]\n",
        "y = yie0['5y']\n",
        "x = sm.add_constant(x)\n",
        "model = sm.OLS(y,x).fit()\n",
        "predictions = model.predict(x)\n",
        "model.summary()"
      ],
      "id": "JZbkuh1yOwZI",
      "execution_count": null,
      "outputs": [
        {
          "output_type": "execute_result",
          "data": {
            "text/html": [
              "<table class=\"simpletable\">\n",
              "<caption>OLS Regression Results</caption>\n",
              "<tr>\n",
              "  <th>Dep. Variable:</th>           <td>5y</td>        <th>  R-squared:         </th> <td>   0.087</td>\n",
              "</tr>\n",
              "<tr>\n",
              "  <th>Model:</th>                   <td>OLS</td>       <th>  Adj. R-squared:    </th> <td>   0.064</td>\n",
              "</tr>\n",
              "<tr>\n",
              "  <th>Method:</th>             <td>Least Squares</td>  <th>  F-statistic:       </th> <td>   3.725</td>\n",
              "</tr>\n",
              "<tr>\n",
              "  <th>Date:</th>             <td>Wed, 23 Jun 2021</td> <th>  Prob (F-statistic):</th>  <td>0.0609</td> \n",
              "</tr>\n",
              "<tr>\n",
              "  <th>Time:</th>                 <td>06:58:33</td>     <th>  Log-Likelihood:    </th> <td>-0.41223</td>\n",
              "</tr>\n",
              "<tr>\n",
              "  <th>No. Observations:</th>      <td>    41</td>      <th>  AIC:               </th> <td>   4.824</td>\n",
              "</tr>\n",
              "<tr>\n",
              "  <th>Df Residuals:</th>          <td>    39</td>      <th>  BIC:               </th> <td>   8.252</td>\n",
              "</tr>\n",
              "<tr>\n",
              "  <th>Df Model:</th>              <td>     1</td>      <th>                     </th>     <td> </td>   \n",
              "</tr>\n",
              "<tr>\n",
              "  <th>Covariance Type:</th>      <td>nonrobust</td>    <th>                     </th>     <td> </td>   \n",
              "</tr>\n",
              "</table>\n",
              "<table class=\"simpletable\">\n",
              "<tr>\n",
              "      <td></td>        <th>coef</th>     <th>std err</th>      <th>t</th>      <th>P>|t|</th>  <th>[0.025</th>    <th>0.975]</th>  \n",
              "</tr>\n",
              "<tr>\n",
              "  <th>const</th>    <td>   -0.5896</td> <td>    0.067</td> <td>   -8.847</td> <td> 0.000</td> <td>   -0.724</td> <td>   -0.455</td>\n",
              "</tr>\n",
              "<tr>\n",
              "  <th>compound</th> <td>    0.0029</td> <td>    0.001</td> <td>    1.930</td> <td> 0.061</td> <td>   -0.000</td> <td>    0.006</td>\n",
              "</tr>\n",
              "</table>\n",
              "<table class=\"simpletable\">\n",
              "<tr>\n",
              "  <th>Omnibus:</th>       <td> 2.972</td> <th>  Durbin-Watson:     </th> <td>   0.347</td>\n",
              "</tr>\n",
              "<tr>\n",
              "  <th>Prob(Omnibus):</th> <td> 0.226</td> <th>  Jarque-Bera (JB):  </th> <td>   2.699</td>\n",
              "</tr>\n",
              "<tr>\n",
              "  <th>Skew:</th>          <td> 0.552</td> <th>  Prob(JB):          </th> <td>   0.259</td>\n",
              "</tr>\n",
              "<tr>\n",
              "  <th>Kurtosis:</th>      <td> 2.400</td> <th>  Cond. No.          </th> <td>    75.9</td>\n",
              "</tr>\n",
              "</table><br/><br/>Warnings:<br/>[1] Standard Errors assume that the covariance matrix of the errors is correctly specified."
            ],
            "text/plain": [
              "<class 'statsmodels.iolib.summary.Summary'>\n",
              "\"\"\"\n",
              "                            OLS Regression Results                            \n",
              "==============================================================================\n",
              "Dep. Variable:                     5y   R-squared:                       0.087\n",
              "Model:                            OLS   Adj. R-squared:                  0.064\n",
              "Method:                 Least Squares   F-statistic:                     3.725\n",
              "Date:                Wed, 23 Jun 2021   Prob (F-statistic):             0.0609\n",
              "Time:                        06:58:33   Log-Likelihood:               -0.41223\n",
              "No. Observations:                  41   AIC:                             4.824\n",
              "Df Residuals:                      39   BIC:                             8.252\n",
              "Df Model:                           1                                         \n",
              "Covariance Type:            nonrobust                                         \n",
              "==============================================================================\n",
              "                 coef    std err          t      P>|t|      [0.025      0.975]\n",
              "------------------------------------------------------------------------------\n",
              "const         -0.5896      0.067     -8.847      0.000      -0.724      -0.455\n",
              "compound       0.0029      0.001      1.930      0.061      -0.000       0.006\n",
              "==============================================================================\n",
              "Omnibus:                        2.972   Durbin-Watson:                   0.347\n",
              "Prob(Omnibus):                  0.226   Jarque-Bera (JB):                2.699\n",
              "Skew:                           0.552   Prob(JB):                        0.259\n",
              "Kurtosis:                       2.400   Cond. No.                         75.9\n",
              "==============================================================================\n",
              "\n",
              "Warnings:\n",
              "[1] Standard Errors assume that the covariance matrix of the errors is correctly specified.\n",
              "\"\"\""
            ]
          },
          "metadata": {
            "tags": []
          },
          "execution_count": 119
        }
      ]
    },
    {
      "cell_type": "code",
      "metadata": {
        "colab": {
          "base_uri": "https://localhost:8080/",
          "height": 452
        },
        "id": "lwocHRCUOy4n",
        "outputId": "5c09c7c5-2b4a-453a-d9df-5d38dd4c2b9e"
      },
      "source": [
        "x = ts_sent[['pos','neg']]\n",
        "y = yie0['10y']\n",
        "x = sm.add_constant(x)\n",
        "model = sm.OLS(y,x).fit()\n",
        "predictions = model.predict(x)\n",
        "model.summary()"
      ],
      "id": "lwocHRCUOy4n",
      "execution_count": null,
      "outputs": [
        {
          "output_type": "execute_result",
          "data": {
            "text/html": [
              "<table class=\"simpletable\">\n",
              "<caption>OLS Regression Results</caption>\n",
              "<tr>\n",
              "  <th>Dep. Variable:</th>           <td>10y</td>       <th>  R-squared:         </th> <td>   0.105</td>\n",
              "</tr>\n",
              "<tr>\n",
              "  <th>Model:</th>                   <td>OLS</td>       <th>  Adj. R-squared:    </th> <td>   0.058</td>\n",
              "</tr>\n",
              "<tr>\n",
              "  <th>Method:</th>             <td>Least Squares</td>  <th>  F-statistic:       </th> <td>   2.231</td>\n",
              "</tr>\n",
              "<tr>\n",
              "  <th>Date:</th>             <td>Wed, 23 Jun 2021</td> <th>  Prob (F-statistic):</th>  <td> 0.121</td> \n",
              "</tr>\n",
              "<tr>\n",
              "  <th>Time:</th>                 <td>06:58:33</td>     <th>  Log-Likelihood:    </th> <td> -20.445</td>\n",
              "</tr>\n",
              "<tr>\n",
              "  <th>No. Observations:</th>      <td>    41</td>      <th>  AIC:               </th> <td>   46.89</td>\n",
              "</tr>\n",
              "<tr>\n",
              "  <th>Df Residuals:</th>          <td>    38</td>      <th>  BIC:               </th> <td>   52.03</td>\n",
              "</tr>\n",
              "<tr>\n",
              "  <th>Df Model:</th>              <td>     2</td>      <th>                     </th>     <td> </td>   \n",
              "</tr>\n",
              "<tr>\n",
              "  <th>Covariance Type:</th>      <td>nonrobust</td>    <th>                     </th>     <td> </td>   \n",
              "</tr>\n",
              "</table>\n",
              "<table class=\"simpletable\">\n",
              "<tr>\n",
              "    <td></td>       <th>coef</th>     <th>std err</th>      <th>t</th>      <th>P>|t|</th>  <th>[0.025</th>    <th>0.975]</th>  \n",
              "</tr>\n",
              "<tr>\n",
              "  <th>const</th> <td>   -0.2190</td> <td>    0.112</td> <td>   -1.956</td> <td> 0.058</td> <td>   -0.446</td> <td>    0.008</td>\n",
              "</tr>\n",
              "<tr>\n",
              "  <th>pos</th>   <td>    0.0217</td> <td>    0.011</td> <td>    1.943</td> <td> 0.059</td> <td>   -0.001</td> <td>    0.044</td>\n",
              "</tr>\n",
              "<tr>\n",
              "  <th>neg</th>   <td>   -0.0296</td> <td>    0.018</td> <td>   -1.628</td> <td> 0.112</td> <td>   -0.066</td> <td>    0.007</td>\n",
              "</tr>\n",
              "</table>\n",
              "<table class=\"simpletable\">\n",
              "<tr>\n",
              "  <th>Omnibus:</th>       <td> 4.088</td> <th>  Durbin-Watson:     </th> <td>   0.280</td>\n",
              "</tr>\n",
              "<tr>\n",
              "  <th>Prob(Omnibus):</th> <td> 0.130</td> <th>  Jarque-Bera (JB):  </th> <td>   3.201</td>\n",
              "</tr>\n",
              "<tr>\n",
              "  <th>Skew:</th>          <td> 0.557</td> <th>  Prob(JB):          </th> <td>   0.202</td>\n",
              "</tr>\n",
              "<tr>\n",
              "  <th>Kurtosis:</th>      <td> 2.206</td> <th>  Cond. No.          </th> <td>    70.7</td>\n",
              "</tr>\n",
              "</table><br/><br/>Warnings:<br/>[1] Standard Errors assume that the covariance matrix of the errors is correctly specified."
            ],
            "text/plain": [
              "<class 'statsmodels.iolib.summary.Summary'>\n",
              "\"\"\"\n",
              "                            OLS Regression Results                            \n",
              "==============================================================================\n",
              "Dep. Variable:                    10y   R-squared:                       0.105\n",
              "Model:                            OLS   Adj. R-squared:                  0.058\n",
              "Method:                 Least Squares   F-statistic:                     2.231\n",
              "Date:                Wed, 23 Jun 2021   Prob (F-statistic):              0.121\n",
              "Time:                        06:58:33   Log-Likelihood:                -20.445\n",
              "No. Observations:                  41   AIC:                             46.89\n",
              "Df Residuals:                      38   BIC:                             52.03\n",
              "Df Model:                           2                                         \n",
              "Covariance Type:            nonrobust                                         \n",
              "==============================================================================\n",
              "                 coef    std err          t      P>|t|      [0.025      0.975]\n",
              "------------------------------------------------------------------------------\n",
              "const         -0.2190      0.112     -1.956      0.058      -0.446       0.008\n",
              "pos            0.0217      0.011      1.943      0.059      -0.001       0.044\n",
              "neg           -0.0296      0.018     -1.628      0.112      -0.066       0.007\n",
              "==============================================================================\n",
              "Omnibus:                        4.088   Durbin-Watson:                   0.280\n",
              "Prob(Omnibus):                  0.130   Jarque-Bera (JB):                3.201\n",
              "Skew:                           0.557   Prob(JB):                        0.202\n",
              "Kurtosis:                       2.206   Cond. No.                         70.7\n",
              "==============================================================================\n",
              "\n",
              "Warnings:\n",
              "[1] Standard Errors assume that the covariance matrix of the errors is correctly specified.\n",
              "\"\"\""
            ]
          },
          "metadata": {
            "tags": []
          },
          "execution_count": 120
        }
      ]
    },
    {
      "cell_type": "code",
      "metadata": {
        "colab": {
          "base_uri": "https://localhost:8080/",
          "height": 432
        },
        "id": "-KVI1EqtO1B7",
        "outputId": "970502d7-5ade-4d23-f9c9-f39c77092c3d"
      },
      "source": [
        "x = ts_sent[['compound']]\n",
        "y = yie0['3m']\n",
        "x = sm.add_constant(x)\n",
        "model = sm.OLS(y,x).fit()\n",
        "predictions = model.predict(x)\n",
        "model.summary()"
      ],
      "id": "-KVI1EqtO1B7",
      "execution_count": null,
      "outputs": [
        {
          "output_type": "execute_result",
          "data": {
            "text/html": [
              "<table class=\"simpletable\">\n",
              "<caption>OLS Regression Results</caption>\n",
              "<tr>\n",
              "  <th>Dep. Variable:</th>           <td>3m</td>        <th>  R-squared:         </th> <td>   0.001</td>\n",
              "</tr>\n",
              "<tr>\n",
              "  <th>Model:</th>                   <td>OLS</td>       <th>  Adj. R-squared:    </th> <td>  -0.025</td>\n",
              "</tr>\n",
              "<tr>\n",
              "  <th>Method:</th>             <td>Least Squares</td>  <th>  F-statistic:       </th> <td> 0.02022</td>\n",
              "</tr>\n",
              "<tr>\n",
              "  <th>Date:</th>             <td>Wed, 23 Jun 2021</td> <th>  Prob (F-statistic):</th>  <td> 0.888</td> \n",
              "</tr>\n",
              "<tr>\n",
              "  <th>Time:</th>                 <td>06:58:33</td>     <th>  Log-Likelihood:    </th> <td>  54.020</td>\n",
              "</tr>\n",
              "<tr>\n",
              "  <th>No. Observations:</th>      <td>    41</td>      <th>  AIC:               </th> <td>  -104.0</td>\n",
              "</tr>\n",
              "<tr>\n",
              "  <th>Df Residuals:</th>          <td>    39</td>      <th>  BIC:               </th> <td>  -100.6</td>\n",
              "</tr>\n",
              "<tr>\n",
              "  <th>Df Model:</th>              <td>     1</td>      <th>                     </th>     <td> </td>   \n",
              "</tr>\n",
              "<tr>\n",
              "  <th>Covariance Type:</th>      <td>nonrobust</td>    <th>                     </th>     <td> </td>   \n",
              "</tr>\n",
              "</table>\n",
              "<table class=\"simpletable\">\n",
              "<tr>\n",
              "      <td></td>        <th>coef</th>     <th>std err</th>      <th>t</th>      <th>P>|t|</th>  <th>[0.025</th>    <th>0.975]</th>  \n",
              "</tr>\n",
              "<tr>\n",
              "  <th>const</th>    <td>   -0.6442</td> <td>    0.018</td> <td>  -36.462</td> <td> 0.000</td> <td>   -0.680</td> <td>   -0.608</td>\n",
              "</tr>\n",
              "<tr>\n",
              "  <th>compound</th> <td> 5.639e-05</td> <td>    0.000</td> <td>    0.142</td> <td> 0.888</td> <td>   -0.001</td> <td>    0.001</td>\n",
              "</tr>\n",
              "</table>\n",
              "<table class=\"simpletable\">\n",
              "<tr>\n",
              "  <th>Omnibus:</th>       <td> 9.364</td> <th>  Durbin-Watson:     </th> <td>   1.254</td>\n",
              "</tr>\n",
              "<tr>\n",
              "  <th>Prob(Omnibus):</th> <td> 0.009</td> <th>  Jarque-Bera (JB):  </th> <td>   8.384</td>\n",
              "</tr>\n",
              "<tr>\n",
              "  <th>Skew:</th>          <td>-0.995</td> <th>  Prob(JB):          </th> <td>  0.0151</td>\n",
              "</tr>\n",
              "<tr>\n",
              "  <th>Kurtosis:</th>      <td> 3.975</td> <th>  Cond. No.          </th> <td>    75.9</td>\n",
              "</tr>\n",
              "</table><br/><br/>Warnings:<br/>[1] Standard Errors assume that the covariance matrix of the errors is correctly specified."
            ],
            "text/plain": [
              "<class 'statsmodels.iolib.summary.Summary'>\n",
              "\"\"\"\n",
              "                            OLS Regression Results                            \n",
              "==============================================================================\n",
              "Dep. Variable:                     3m   R-squared:                       0.001\n",
              "Model:                            OLS   Adj. R-squared:                 -0.025\n",
              "Method:                 Least Squares   F-statistic:                   0.02022\n",
              "Date:                Wed, 23 Jun 2021   Prob (F-statistic):              0.888\n",
              "Time:                        06:58:33   Log-Likelihood:                 54.020\n",
              "No. Observations:                  41   AIC:                            -104.0\n",
              "Df Residuals:                      39   BIC:                            -100.6\n",
              "Df Model:                           1                                         \n",
              "Covariance Type:            nonrobust                                         \n",
              "==============================================================================\n",
              "                 coef    std err          t      P>|t|      [0.025      0.975]\n",
              "------------------------------------------------------------------------------\n",
              "const         -0.6442      0.018    -36.462      0.000      -0.680      -0.608\n",
              "compound    5.639e-05      0.000      0.142      0.888      -0.001       0.001\n",
              "==============================================================================\n",
              "Omnibus:                        9.364   Durbin-Watson:                   1.254\n",
              "Prob(Omnibus):                  0.009   Jarque-Bera (JB):                8.384\n",
              "Skew:                          -0.995   Prob(JB):                       0.0151\n",
              "Kurtosis:                       3.975   Cond. No.                         75.9\n",
              "==============================================================================\n",
              "\n",
              "Warnings:\n",
              "[1] Standard Errors assume that the covariance matrix of the errors is correctly specified.\n",
              "\"\"\""
            ]
          },
          "metadata": {
            "tags": []
          },
          "execution_count": 121
        }
      ]
    },
    {
      "cell_type": "code",
      "metadata": {
        "colab": {
          "base_uri": "https://localhost:8080/",
          "height": 432
        },
        "id": "2Un-Ja-0O_7O",
        "outputId": "b633e739-6d11-4483-f0dc-c9d6dca65314"
      },
      "source": [
        "x = ts_sent[['compound']]\n",
        "y = yie0['1y']\n",
        "x = sm.add_constant(x)\n",
        "model = sm.OLS(y,x).fit()\n",
        "predictions = model.predict(x)\n",
        "model.summary()"
      ],
      "id": "2Un-Ja-0O_7O",
      "execution_count": null,
      "outputs": [
        {
          "output_type": "execute_result",
          "data": {
            "text/html": [
              "<table class=\"simpletable\">\n",
              "<caption>OLS Regression Results</caption>\n",
              "<tr>\n",
              "  <th>Dep. Variable:</th>           <td>1y</td>        <th>  R-squared:         </th> <td>   0.004</td>\n",
              "</tr>\n",
              "<tr>\n",
              "  <th>Model:</th>                   <td>OLS</td>       <th>  Adj. R-squared:    </th> <td>  -0.022</td>\n",
              "</tr>\n",
              "<tr>\n",
              "  <th>Method:</th>             <td>Least Squares</td>  <th>  F-statistic:       </th> <td>  0.1448</td>\n",
              "</tr>\n",
              "<tr>\n",
              "  <th>Date:</th>             <td>Wed, 23 Jun 2021</td> <th>  Prob (F-statistic):</th>  <td> 0.706</td> \n",
              "</tr>\n",
              "<tr>\n",
              "  <th>Time:</th>                 <td>06:58:33</td>     <th>  Log-Likelihood:    </th> <td>  58.471</td>\n",
              "</tr>\n",
              "<tr>\n",
              "  <th>No. Observations:</th>      <td>    41</td>      <th>  AIC:               </th> <td>  -112.9</td>\n",
              "</tr>\n",
              "<tr>\n",
              "  <th>Df Residuals:</th>          <td>    39</td>      <th>  BIC:               </th> <td>  -109.5</td>\n",
              "</tr>\n",
              "<tr>\n",
              "  <th>Df Model:</th>              <td>     1</td>      <th>                     </th>     <td> </td>   \n",
              "</tr>\n",
              "<tr>\n",
              "  <th>Covariance Type:</th>      <td>nonrobust</td>    <th>                     </th>     <td> </td>   \n",
              "</tr>\n",
              "</table>\n",
              "<table class=\"simpletable\">\n",
              "<tr>\n",
              "      <td></td>        <th>coef</th>     <th>std err</th>      <th>t</th>      <th>P>|t|</th>  <th>[0.025</th>    <th>0.975]</th>  \n",
              "</tr>\n",
              "<tr>\n",
              "  <th>const</th>    <td>   -0.6830</td> <td>    0.016</td> <td>  -43.092</td> <td> 0.000</td> <td>   -0.715</td> <td>   -0.651</td>\n",
              "</tr>\n",
              "<tr>\n",
              "  <th>compound</th> <td>    0.0001</td> <td>    0.000</td> <td>    0.381</td> <td> 0.706</td> <td>   -0.001</td> <td>    0.001</td>\n",
              "</tr>\n",
              "</table>\n",
              "<table class=\"simpletable\">\n",
              "<tr>\n",
              "  <th>Omnibus:</th>       <td> 9.133</td> <th>  Durbin-Watson:     </th> <td>   0.991</td>\n",
              "</tr>\n",
              "<tr>\n",
              "  <th>Prob(Omnibus):</th> <td> 0.010</td> <th>  Jarque-Bera (JB):  </th> <td>   8.701</td>\n",
              "</tr>\n",
              "<tr>\n",
              "  <th>Skew:</th>          <td>-0.828</td> <th>  Prob(JB):          </th> <td>  0.0129</td>\n",
              "</tr>\n",
              "<tr>\n",
              "  <th>Kurtosis:</th>      <td> 4.534</td> <th>  Cond. No.          </th> <td>    75.9</td>\n",
              "</tr>\n",
              "</table><br/><br/>Warnings:<br/>[1] Standard Errors assume that the covariance matrix of the errors is correctly specified."
            ],
            "text/plain": [
              "<class 'statsmodels.iolib.summary.Summary'>\n",
              "\"\"\"\n",
              "                            OLS Regression Results                            \n",
              "==============================================================================\n",
              "Dep. Variable:                     1y   R-squared:                       0.004\n",
              "Model:                            OLS   Adj. R-squared:                 -0.022\n",
              "Method:                 Least Squares   F-statistic:                    0.1448\n",
              "Date:                Wed, 23 Jun 2021   Prob (F-statistic):              0.706\n",
              "Time:                        06:58:33   Log-Likelihood:                 58.471\n",
              "No. Observations:                  41   AIC:                            -112.9\n",
              "Df Residuals:                      39   BIC:                            -109.5\n",
              "Df Model:                           1                                         \n",
              "Covariance Type:            nonrobust                                         \n",
              "==============================================================================\n",
              "                 coef    std err          t      P>|t|      [0.025      0.975]\n",
              "------------------------------------------------------------------------------\n",
              "const         -0.6830      0.016    -43.092      0.000      -0.715      -0.651\n",
              "compound       0.0001      0.000      0.381      0.706      -0.001       0.001\n",
              "==============================================================================\n",
              "Omnibus:                        9.133   Durbin-Watson:                   0.991\n",
              "Prob(Omnibus):                  0.010   Jarque-Bera (JB):                8.701\n",
              "Skew:                          -0.828   Prob(JB):                       0.0129\n",
              "Kurtosis:                       4.534   Cond. No.                         75.9\n",
              "==============================================================================\n",
              "\n",
              "Warnings:\n",
              "[1] Standard Errors assume that the covariance matrix of the errors is correctly specified.\n",
              "\"\"\""
            ]
          },
          "metadata": {
            "tags": []
          },
          "execution_count": 122
        }
      ]
    },
    {
      "cell_type": "code",
      "metadata": {
        "colab": {
          "base_uri": "https://localhost:8080/",
          "height": 432
        },
        "id": "Z4qSZoOrPGMl",
        "outputId": "d5cd4b3e-52fd-49cc-be2e-312fee1afec2"
      },
      "source": [
        "x = ts_sent[['compound']]\n",
        "y = yie0['2y']\n",
        "x = sm.add_constant(x)\n",
        "model = sm.OLS(y,x).fit()\n",
        "predictions = model.predict(x)\n",
        "model.summary()"
      ],
      "id": "Z4qSZoOrPGMl",
      "execution_count": null,
      "outputs": [
        {
          "output_type": "execute_result",
          "data": {
            "text/html": [
              "<table class=\"simpletable\">\n",
              "<caption>OLS Regression Results</caption>\n",
              "<tr>\n",
              "  <th>Dep. Variable:</th>           <td>2y</td>        <th>  R-squared:         </th> <td>   0.082</td>\n",
              "</tr>\n",
              "<tr>\n",
              "  <th>Model:</th>                   <td>OLS</td>       <th>  Adj. R-squared:    </th> <td>   0.058</td>\n",
              "</tr>\n",
              "<tr>\n",
              "  <th>Method:</th>             <td>Least Squares</td>  <th>  F-statistic:       </th> <td>   3.481</td>\n",
              "</tr>\n",
              "<tr>\n",
              "  <th>Date:</th>             <td>Wed, 23 Jun 2021</td> <th>  Prob (F-statistic):</th>  <td>0.0696</td> \n",
              "</tr>\n",
              "<tr>\n",
              "  <th>Time:</th>                 <td>06:58:33</td>     <th>  Log-Likelihood:    </th> <td>  10.570</td>\n",
              "</tr>\n",
              "<tr>\n",
              "  <th>No. Observations:</th>      <td>    41</td>      <th>  AIC:               </th> <td>  -17.14</td>\n",
              "</tr>\n",
              "<tr>\n",
              "  <th>Df Residuals:</th>          <td>    39</td>      <th>  BIC:               </th> <td>  -13.71</td>\n",
              "</tr>\n",
              "<tr>\n",
              "  <th>Df Model:</th>              <td>     1</td>      <th>                     </th>     <td> </td>   \n",
              "</tr>\n",
              "<tr>\n",
              "  <th>Covariance Type:</th>      <td>nonrobust</td>    <th>                     </th>     <td> </td>   \n",
              "</tr>\n",
              "</table>\n",
              "<table class=\"simpletable\">\n",
              "<tr>\n",
              "      <td></td>        <th>coef</th>     <th>std err</th>      <th>t</th>      <th>P>|t|</th>  <th>[0.025</th>    <th>0.975]</th>  \n",
              "</tr>\n",
              "<tr>\n",
              "  <th>const</th>    <td>   -0.7031</td> <td>    0.051</td> <td>  -13.791</td> <td> 0.000</td> <td>   -0.806</td> <td>   -0.600</td>\n",
              "</tr>\n",
              "<tr>\n",
              "  <th>compound</th> <td>    0.0021</td> <td>    0.001</td> <td>    1.866</td> <td> 0.070</td> <td>   -0.000</td> <td>    0.004</td>\n",
              "</tr>\n",
              "</table>\n",
              "<table class=\"simpletable\">\n",
              "<tr>\n",
              "  <th>Omnibus:</th>       <td> 2.084</td> <th>  Durbin-Watson:     </th> <td>   0.501</td>\n",
              "</tr>\n",
              "<tr>\n",
              "  <th>Prob(Omnibus):</th> <td> 0.353</td> <th>  Jarque-Bera (JB):  </th> <td>   1.963</td>\n",
              "</tr>\n",
              "<tr>\n",
              "  <th>Skew:</th>          <td> 0.469</td> <th>  Prob(JB):          </th> <td>   0.375</td>\n",
              "</tr>\n",
              "<tr>\n",
              "  <th>Kurtosis:</th>      <td> 2.482</td> <th>  Cond. No.          </th> <td>    75.9</td>\n",
              "</tr>\n",
              "</table><br/><br/>Warnings:<br/>[1] Standard Errors assume that the covariance matrix of the errors is correctly specified."
            ],
            "text/plain": [
              "<class 'statsmodels.iolib.summary.Summary'>\n",
              "\"\"\"\n",
              "                            OLS Regression Results                            \n",
              "==============================================================================\n",
              "Dep. Variable:                     2y   R-squared:                       0.082\n",
              "Model:                            OLS   Adj. R-squared:                  0.058\n",
              "Method:                 Least Squares   F-statistic:                     3.481\n",
              "Date:                Wed, 23 Jun 2021   Prob (F-statistic):             0.0696\n",
              "Time:                        06:58:33   Log-Likelihood:                 10.570\n",
              "No. Observations:                  41   AIC:                            -17.14\n",
              "Df Residuals:                      39   BIC:                            -13.71\n",
              "Df Model:                           1                                         \n",
              "Covariance Type:            nonrobust                                         \n",
              "==============================================================================\n",
              "                 coef    std err          t      P>|t|      [0.025      0.975]\n",
              "------------------------------------------------------------------------------\n",
              "const         -0.7031      0.051    -13.791      0.000      -0.806      -0.600\n",
              "compound       0.0021      0.001      1.866      0.070      -0.000       0.004\n",
              "==============================================================================\n",
              "Omnibus:                        2.084   Durbin-Watson:                   0.501\n",
              "Prob(Omnibus):                  0.353   Jarque-Bera (JB):                1.963\n",
              "Skew:                           0.469   Prob(JB):                        0.375\n",
              "Kurtosis:                       2.482   Cond. No.                         75.9\n",
              "==============================================================================\n",
              "\n",
              "Warnings:\n",
              "[1] Standard Errors assume that the covariance matrix of the errors is correctly specified.\n",
              "\"\"\""
            ]
          },
          "metadata": {
            "tags": []
          },
          "execution_count": 123
        }
      ]
    },
    {
      "cell_type": "code",
      "metadata": {
        "colab": {
          "base_uri": "https://localhost:8080/",
          "height": 432
        },
        "id": "IUl4EikWPIi5",
        "outputId": "fd02edaf-cb9c-4b82-ade1-24856236fe2a"
      },
      "source": [
        "x = ts_sent[['compound']]\n",
        "y = yie0['5y']\n",
        "x = sm.add_constant(x)\n",
        "model = sm.OLS(y,x).fit()\n",
        "predictions = model.predict(x)\n",
        "model.summary()"
      ],
      "id": "IUl4EikWPIi5",
      "execution_count": null,
      "outputs": [
        {
          "output_type": "execute_result",
          "data": {
            "text/html": [
              "<table class=\"simpletable\">\n",
              "<caption>OLS Regression Results</caption>\n",
              "<tr>\n",
              "  <th>Dep. Variable:</th>           <td>5y</td>        <th>  R-squared:         </th> <td>   0.087</td>\n",
              "</tr>\n",
              "<tr>\n",
              "  <th>Model:</th>                   <td>OLS</td>       <th>  Adj. R-squared:    </th> <td>   0.064</td>\n",
              "</tr>\n",
              "<tr>\n",
              "  <th>Method:</th>             <td>Least Squares</td>  <th>  F-statistic:       </th> <td>   3.725</td>\n",
              "</tr>\n",
              "<tr>\n",
              "  <th>Date:</th>             <td>Wed, 23 Jun 2021</td> <th>  Prob (F-statistic):</th>  <td>0.0609</td> \n",
              "</tr>\n",
              "<tr>\n",
              "  <th>Time:</th>                 <td>06:58:33</td>     <th>  Log-Likelihood:    </th> <td>-0.41223</td>\n",
              "</tr>\n",
              "<tr>\n",
              "  <th>No. Observations:</th>      <td>    41</td>      <th>  AIC:               </th> <td>   4.824</td>\n",
              "</tr>\n",
              "<tr>\n",
              "  <th>Df Residuals:</th>          <td>    39</td>      <th>  BIC:               </th> <td>   8.252</td>\n",
              "</tr>\n",
              "<tr>\n",
              "  <th>Df Model:</th>              <td>     1</td>      <th>                     </th>     <td> </td>   \n",
              "</tr>\n",
              "<tr>\n",
              "  <th>Covariance Type:</th>      <td>nonrobust</td>    <th>                     </th>     <td> </td>   \n",
              "</tr>\n",
              "</table>\n",
              "<table class=\"simpletable\">\n",
              "<tr>\n",
              "      <td></td>        <th>coef</th>     <th>std err</th>      <th>t</th>      <th>P>|t|</th>  <th>[0.025</th>    <th>0.975]</th>  \n",
              "</tr>\n",
              "<tr>\n",
              "  <th>const</th>    <td>   -0.5896</td> <td>    0.067</td> <td>   -8.847</td> <td> 0.000</td> <td>   -0.724</td> <td>   -0.455</td>\n",
              "</tr>\n",
              "<tr>\n",
              "  <th>compound</th> <td>    0.0029</td> <td>    0.001</td> <td>    1.930</td> <td> 0.061</td> <td>   -0.000</td> <td>    0.006</td>\n",
              "</tr>\n",
              "</table>\n",
              "<table class=\"simpletable\">\n",
              "<tr>\n",
              "  <th>Omnibus:</th>       <td> 2.972</td> <th>  Durbin-Watson:     </th> <td>   0.347</td>\n",
              "</tr>\n",
              "<tr>\n",
              "  <th>Prob(Omnibus):</th> <td> 0.226</td> <th>  Jarque-Bera (JB):  </th> <td>   2.699</td>\n",
              "</tr>\n",
              "<tr>\n",
              "  <th>Skew:</th>          <td> 0.552</td> <th>  Prob(JB):          </th> <td>   0.259</td>\n",
              "</tr>\n",
              "<tr>\n",
              "  <th>Kurtosis:</th>      <td> 2.400</td> <th>  Cond. No.          </th> <td>    75.9</td>\n",
              "</tr>\n",
              "</table><br/><br/>Warnings:<br/>[1] Standard Errors assume that the covariance matrix of the errors is correctly specified."
            ],
            "text/plain": [
              "<class 'statsmodels.iolib.summary.Summary'>\n",
              "\"\"\"\n",
              "                            OLS Regression Results                            \n",
              "==============================================================================\n",
              "Dep. Variable:                     5y   R-squared:                       0.087\n",
              "Model:                            OLS   Adj. R-squared:                  0.064\n",
              "Method:                 Least Squares   F-statistic:                     3.725\n",
              "Date:                Wed, 23 Jun 2021   Prob (F-statistic):             0.0609\n",
              "Time:                        06:58:33   Log-Likelihood:               -0.41223\n",
              "No. Observations:                  41   AIC:                             4.824\n",
              "Df Residuals:                      39   BIC:                             8.252\n",
              "Df Model:                           1                                         \n",
              "Covariance Type:            nonrobust                                         \n",
              "==============================================================================\n",
              "                 coef    std err          t      P>|t|      [0.025      0.975]\n",
              "------------------------------------------------------------------------------\n",
              "const         -0.5896      0.067     -8.847      0.000      -0.724      -0.455\n",
              "compound       0.0029      0.001      1.930      0.061      -0.000       0.006\n",
              "==============================================================================\n",
              "Omnibus:                        2.972   Durbin-Watson:                   0.347\n",
              "Prob(Omnibus):                  0.226   Jarque-Bera (JB):                2.699\n",
              "Skew:                           0.552   Prob(JB):                        0.259\n",
              "Kurtosis:                       2.400   Cond. No.                         75.9\n",
              "==============================================================================\n",
              "\n",
              "Warnings:\n",
              "[1] Standard Errors assume that the covariance matrix of the errors is correctly specified.\n",
              "\"\"\""
            ]
          },
          "metadata": {
            "tags": []
          },
          "execution_count": 124
        }
      ]
    },
    {
      "cell_type": "code",
      "metadata": {
        "colab": {
          "base_uri": "https://localhost:8080/",
          "height": 432
        },
        "id": "vNsNvNAoPLtO",
        "outputId": "ea5e575a-7521-4fc5-de3e-fafff3e818ce"
      },
      "source": [
        "x = ts_sent[['compound']]\n",
        "y = yie0['10y']\n",
        "x = sm.add_constant(x)\n",
        "model = sm.OLS(y,x).fit()\n",
        "predictions = model.predict(x)\n",
        "model.summary()"
      ],
      "id": "vNsNvNAoPLtO",
      "execution_count": null,
      "outputs": [
        {
          "output_type": "execute_result",
          "data": {
            "text/html": [
              "<table class=\"simpletable\">\n",
              "<caption>OLS Regression Results</caption>\n",
              "<tr>\n",
              "  <th>Dep. Variable:</th>           <td>10y</td>       <th>  R-squared:         </th> <td>   0.090</td>\n",
              "</tr>\n",
              "<tr>\n",
              "  <th>Model:</th>                   <td>OLS</td>       <th>  Adj. R-squared:    </th> <td>   0.067</td>\n",
              "</tr>\n",
              "<tr>\n",
              "  <th>Method:</th>             <td>Least Squares</td>  <th>  F-statistic:       </th> <td>   3.869</td>\n",
              "</tr>\n",
              "<tr>\n",
              "  <th>Date:</th>             <td>Wed, 23 Jun 2021</td> <th>  Prob (F-statistic):</th>  <td>0.0563</td> \n",
              "</tr>\n",
              "<tr>\n",
              "  <th>Time:</th>                 <td>06:58:33</td>     <th>  Log-Likelihood:    </th> <td> -20.781</td>\n",
              "</tr>\n",
              "<tr>\n",
              "  <th>No. Observations:</th>      <td>    41</td>      <th>  AIC:               </th> <td>   45.56</td>\n",
              "</tr>\n",
              "<tr>\n",
              "  <th>Df Residuals:</th>          <td>    39</td>      <th>  BIC:               </th> <td>   48.99</td>\n",
              "</tr>\n",
              "<tr>\n",
              "  <th>Df Model:</th>              <td>     1</td>      <th>                     </th>     <td> </td>   \n",
              "</tr>\n",
              "<tr>\n",
              "  <th>Covariance Type:</th>      <td>nonrobust</td>    <th>                     </th>     <td> </td>   \n",
              "</tr>\n",
              "</table>\n",
              "<table class=\"simpletable\">\n",
              "<tr>\n",
              "      <td></td>        <th>coef</th>     <th>std err</th>      <th>t</th>      <th>P>|t|</th>  <th>[0.025</th>    <th>0.975]</th>  \n",
              "</tr>\n",
              "<tr>\n",
              "  <th>const</th>    <td>   -0.2608</td> <td>    0.110</td> <td>   -2.381</td> <td> 0.022</td> <td>   -0.482</td> <td>   -0.039</td>\n",
              "</tr>\n",
              "<tr>\n",
              "  <th>compound</th> <td>    0.0048</td> <td>    0.002</td> <td>    1.967</td> <td> 0.056</td> <td>   -0.000</td> <td>    0.010</td>\n",
              "</tr>\n",
              "</table>\n",
              "<table class=\"simpletable\">\n",
              "<tr>\n",
              "  <th>Omnibus:</th>       <td> 3.994</td> <th>  Durbin-Watson:     </th> <td>   0.274</td>\n",
              "</tr>\n",
              "<tr>\n",
              "  <th>Prob(Omnibus):</th> <td> 0.136</td> <th>  Jarque-Bera (JB):  </th> <td>   2.999</td>\n",
              "</tr>\n",
              "<tr>\n",
              "  <th>Skew:</th>          <td> 0.521</td> <th>  Prob(JB):          </th> <td>   0.223</td>\n",
              "</tr>\n",
              "<tr>\n",
              "  <th>Kurtosis:</th>      <td> 2.181</td> <th>  Cond. No.          </th> <td>    75.9</td>\n",
              "</tr>\n",
              "</table><br/><br/>Warnings:<br/>[1] Standard Errors assume that the covariance matrix of the errors is correctly specified."
            ],
            "text/plain": [
              "<class 'statsmodels.iolib.summary.Summary'>\n",
              "\"\"\"\n",
              "                            OLS Regression Results                            \n",
              "==============================================================================\n",
              "Dep. Variable:                    10y   R-squared:                       0.090\n",
              "Model:                            OLS   Adj. R-squared:                  0.067\n",
              "Method:                 Least Squares   F-statistic:                     3.869\n",
              "Date:                Wed, 23 Jun 2021   Prob (F-statistic):             0.0563\n",
              "Time:                        06:58:33   Log-Likelihood:                -20.781\n",
              "No. Observations:                  41   AIC:                             45.56\n",
              "Df Residuals:                      39   BIC:                             48.99\n",
              "Df Model:                           1                                         \n",
              "Covariance Type:            nonrobust                                         \n",
              "==============================================================================\n",
              "                 coef    std err          t      P>|t|      [0.025      0.975]\n",
              "------------------------------------------------------------------------------\n",
              "const         -0.2608      0.110     -2.381      0.022      -0.482      -0.039\n",
              "compound       0.0048      0.002      1.967      0.056      -0.000       0.010\n",
              "==============================================================================\n",
              "Omnibus:                        3.994   Durbin-Watson:                   0.274\n",
              "Prob(Omnibus):                  0.136   Jarque-Bera (JB):                2.999\n",
              "Skew:                           0.521   Prob(JB):                        0.223\n",
              "Kurtosis:                       2.181   Cond. No.                         75.9\n",
              "==============================================================================\n",
              "\n",
              "Warnings:\n",
              "[1] Standard Errors assume that the covariance matrix of the errors is correctly specified.\n",
              "\"\"\""
            ]
          },
          "metadata": {
            "tags": []
          },
          "execution_count": 125
        }
      ]
    },
    {
      "cell_type": "code",
      "metadata": {
        "id": "G9l2jeOVQfUo"
      },
      "source": [
        "ts_sent['3m'] = yie0['3m']\n",
        "ts_sent['1y'] = yie0['1y']\n",
        "ts_sent['2y'] = yie0['2y']\n",
        "ts_sent['5y'] = yie0['5y']\n",
        "ts_sent['10y'] = yie0['10y']\n",
        "ts_sent.head(2)"
      ],
      "id": "G9l2jeOVQfUo",
      "execution_count": null,
      "outputs": []
    },
    {
      "cell_type": "code",
      "metadata": {
        "colab": {
          "base_uri": "https://localhost:8080/"
        },
        "id": "QaPps45X2dZF",
        "outputId": "b637251e-e7f6-42b4-9308-cef54f11c18c"
      },
      "source": [
        "type(ts_sent.iloc[1,0])"
      ],
      "id": "QaPps45X2dZF",
      "execution_count": null,
      "outputs": [
        {
          "output_type": "execute_result",
          "data": {
            "text/plain": [
              "pandas._libs.tslibs.timestamps.Timestamp"
            ]
          },
          "metadata": {
            "tags": []
          },
          "execution_count": 156
        }
      ]
    },
    {
      "cell_type": "code",
      "metadata": {
        "colab": {
          "base_uri": "https://localhost:8080/",
          "height": 191
        },
        "id": "3N8HKyqGPSGY",
        "outputId": "f88e3096-af9c-4a93-9057-7bd0c40f2567"
      },
      "source": [
        "import pandas as pd\n",
        "import statsmodels.formula.api as ols\n",
        "res = ols(y=ts_sent['3m'], x=ts_sent[['pos','neg']])"
      ],
      "id": "3N8HKyqGPSGY",
      "execution_count": null,
      "outputs": [
        {
          "output_type": "error",
          "ename": "TypeError",
          "evalue": "ignored",
          "traceback": [
            "\u001b[0;31m---------------------------------------------------------------------------\u001b[0m",
            "\u001b[0;31mTypeError\u001b[0m                                 Traceback (most recent call last)",
            "\u001b[0;32m<ipython-input-127-f6effd5ea03e>\u001b[0m in \u001b[0;36m<module>\u001b[0;34m()\u001b[0m\n\u001b[1;32m      1\u001b[0m \u001b[0;32mimport\u001b[0m \u001b[0mpandas\u001b[0m \u001b[0;32mas\u001b[0m \u001b[0mpd\u001b[0m\u001b[0;34m\u001b[0m\u001b[0;34m\u001b[0m\u001b[0m\n\u001b[1;32m      2\u001b[0m \u001b[0;32mimport\u001b[0m \u001b[0mstatsmodels\u001b[0m\u001b[0;34m.\u001b[0m\u001b[0mformula\u001b[0m\u001b[0;34m.\u001b[0m\u001b[0mapi\u001b[0m \u001b[0;32mas\u001b[0m \u001b[0mols\u001b[0m\u001b[0;34m\u001b[0m\u001b[0;34m\u001b[0m\u001b[0m\n\u001b[0;32m----> 3\u001b[0;31m \u001b[0mres\u001b[0m \u001b[0;34m=\u001b[0m \u001b[0mols\u001b[0m\u001b[0;34m(\u001b[0m\u001b[0my\u001b[0m\u001b[0;34m=\u001b[0m\u001b[0mts_sent\u001b[0m\u001b[0;34m[\u001b[0m\u001b[0;34m'3m'\u001b[0m\u001b[0;34m]\u001b[0m\u001b[0;34m,\u001b[0m \u001b[0mx\u001b[0m\u001b[0;34m=\u001b[0m\u001b[0mts_sent\u001b[0m\u001b[0;34m[\u001b[0m\u001b[0;34m[\u001b[0m\u001b[0;34m'pos'\u001b[0m\u001b[0;34m,\u001b[0m\u001b[0;34m'neg'\u001b[0m\u001b[0;34m]\u001b[0m\u001b[0;34m]\u001b[0m\u001b[0;34m)\u001b[0m\u001b[0;34m\u001b[0m\u001b[0;34m\u001b[0m\u001b[0m\n\u001b[0m",
            "\u001b[0;31mTypeError\u001b[0m: 'module' object is not callable"
          ]
        }
      ]
    },
    {
      "cell_type": "code",
      "metadata": {
        "id": "ztLYqsB7RiHH"
      },
      "source": [
        ""
      ],
      "id": "ztLYqsB7RiHH",
      "execution_count": null,
      "outputs": []
    }
  ]
}